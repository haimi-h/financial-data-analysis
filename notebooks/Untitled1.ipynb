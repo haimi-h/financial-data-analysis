{
 "cells": [
  {
   "cell_type": "code",
   "execution_count": null,
   "id": "a4bfd2ff",
   "metadata": {},
   "outputs": [
    {
     "name": "stderr",
     "output_type": "stream",
     "text": [
      "[*********************100%%**********************]  1 of 1 completed\n"
     ]
    },
    {
     "name": "stdout",
     "output_type": "stream",
     "text": [
      "\n",
      "Stock: A\n",
      "                 Open       High        Low      Close  Adj Close   Volume\n",
      "Date                                                                      \n",
      "2009-04-29  12.310443  13.011445  12.238913  12.896996  11.591174  5516508\n",
      "2009-04-30  12.947067  13.547926  12.947067  13.061516  11.739034  4977998\n",
      "2009-05-01  13.025751  13.590844  13.004292  13.454936  12.092623  4039241\n",
      "2009-05-04  13.454936  13.891273  13.412017  13.891273  12.484777  3885042\n",
      "2009-05-05  13.848355  13.876967  13.283262  13.397711  12.041190  4895656\n"
     ]
    },
    {
     "name": "stderr",
     "output_type": "stream",
     "text": [
      "[*********************100%%**********************]  1 of 1 completed\n"
     ]
    },
    {
     "name": "stdout",
     "output_type": "stream",
     "text": [
      "\n",
      "Stock: AA\n",
      "                 Open       High        Low      Close  Adj Close    Volume\n",
      "Date                                                                       \n",
      "2009-08-10  30.950640  31.383181  30.205709  30.494070  27.451965  12441906\n",
      "2009-08-11  30.301830  30.782431  29.845261  30.542130  27.495234  13131169\n",
      "2009-08-12  30.085560  31.551390  29.917351  31.142879  28.036051  14552643\n",
      "2009-08-13  31.983931  33.041248  31.527361  32.945129  29.658508  15589263\n",
      "2009-08-14  33.161400  33.353642  31.503330  31.887810  28.706665  14639409\n"
     ]
    },
    {
     "name": "stderr",
     "output_type": "stream",
     "text": [
      "[*********************100%%**********************]  1 of 1 completed\n",
      "\n",
      "1 Failed download:\n",
      "['AAC']: Exception('%ticker%: No timezone found, symbol may be delisted')\n"
     ]
    },
    {
     "name": "stdout",
     "output_type": "stream",
     "text": [
      "\n",
      "Stock: AAC\n",
      "Empty DataFrame\n",
      "Columns: [Open, High, Low, Close, Adj Close, Volume]\n",
      "Index: []\n"
     ]
    },
    {
     "name": "stderr",
     "output_type": "stream",
     "text": [
      "[*********************100%%**********************]  1 of 1 completed\n"
     ]
    },
    {
     "name": "stdout",
     "output_type": "stream",
     "text": [
      "\n",
      "Stock: AADR\n",
      "                 Open       High        Low      Close  Adj Close  Volume\n",
      "Date                                                                     \n",
      "2013-03-05  33.310001  33.310001  33.310001  33.310001  30.201914     300\n",
      "2013-03-06  33.290001  33.290001  33.220001  33.220001  30.120302     300\n",
      "2013-03-07  33.410000  33.410000  32.970001  33.130001  30.038702    1500\n",
      "2013-03-08  33.009998  33.250000  33.009998  33.250000  30.147497    1300\n",
      "2013-03-11  33.330002  33.360001  32.959999  33.060001  29.975231    1800\n"
     ]
    },
    {
     "name": "stderr",
     "output_type": "stream",
     "text": [
      "[*********************100%%**********************]  1 of 1 completed\n"
     ]
    },
    {
     "name": "stdout",
     "output_type": "stream",
     "text": [
      "\n",
      "Stock: AAL\n",
      "             Open   High    Low  Close  Adj Close    Volume\n",
      "Date                                                       \n",
      "2011-05-16   9.55   9.98   9.53   9.94   9.370851   6887400\n",
      "2011-05-17   9.86  10.05   9.78   9.80   9.238867   5156200\n",
      "2011-05-18   9.76   9.77   9.41   9.67   9.116308   5936200\n",
      "2011-05-19   9.78  10.35   9.64  10.32   9.729092  13517000\n",
      "2011-05-20  10.25  10.32  10.11  10.17   9.587681   6661100\n"
     ]
    },
    {
     "name": "stderr",
     "output_type": "stream",
     "text": [
      "[*********************100%%**********************]  1 of 1 completed\n",
      "\n",
      "1 Failed download:\n",
      "['AAMC']: Exception(\"%ticker%: Data doesn't exist for startDate = 1393372800, endDate = 1589197631\")\n"
     ]
    },
    {
     "name": "stdout",
     "output_type": "stream",
     "text": [
      "\n",
      "Stock: AAMC\n",
      "Empty DataFrame\n",
      "Columns: [Open, High, Low, Close, Adj Close, Volume]\n",
      "Index: []\n"
     ]
    },
    {
     "name": "stderr",
     "output_type": "stream",
     "text": [
      "[*********************100%%**********************]  1 of 1 completed\n"
     ]
    },
    {
     "name": "stdout",
     "output_type": "stream",
     "text": [
      "\n",
      "Stock: AAME\n",
      "            Open  High   Low  Close  Adj Close  Volume\n",
      "Date                                                  \n",
      "2010-04-28  1.65  1.84  1.65   1.82   1.631031   14900\n",
      "2010-04-29  1.90  1.91  1.85   1.87   1.675839    4900\n",
      "2010-04-30  1.78  1.88  1.76   1.79   1.604145    7300\n",
      "2010-05-03  1.76  1.82  1.76   1.82   1.631031     400\n",
      "2010-05-04  1.77  1.81  1.65   1.70   1.523490   16500\n"
     ]
    },
    {
     "name": "stderr",
     "output_type": "stream",
     "text": [
      "[*********************100%%**********************]  1 of 1 completed\n",
      "\n",
      "1 Failed download:\n",
      "['AAN']: Exception(\"%ticker%: Data doesn't exist for startDate = 1249862400, endDate = 1591799794\")\n"
     ]
    },
    {
     "name": "stdout",
     "output_type": "stream",
     "text": [
      "\n",
      "Stock: AAN\n",
      "Empty DataFrame\n",
      "Columns: [Open, High, Low, Close, Adj Close, Volume]\n",
      "Index: []\n"
     ]
    },
    {
     "name": "stderr",
     "output_type": "stream",
     "text": [
      "[*********************100%%**********************]  1 of 1 completed\n"
     ]
    },
    {
     "name": "stdout",
     "output_type": "stream",
     "text": [
      "\n",
      "Stock: AAOI\n",
      "             Open   High    Low  Close  Adj Close  Volume\n",
      "Date                                                     \n",
      "2013-09-26  10.00  10.09   9.37   9.96       9.96  946000\n",
      "2013-09-27  10.44  10.44  10.00  10.10      10.10  253300\n",
      "2013-09-30  10.00  10.18   9.71  10.00      10.00   84900\n",
      "2013-10-01   9.95  10.02   9.92  10.00      10.00   74500\n",
      "2013-10-02   9.99  10.00   9.89   9.97       9.97   94000\n"
     ]
    },
    {
     "name": "stderr",
     "output_type": "stream",
     "text": [
      "[*********************100%%**********************]  1 of 1 completed\n"
     ]
    },
    {
     "name": "stdout",
     "output_type": "stream",
     "text": [
      "\n",
      "Stock: AAON\n",
      "                Open      High       Low     Close  Adj Close   Volume\n",
      "Date                                                                  \n",
      "2009-08-10  4.069136  4.069136  3.972346  4.015802   3.518068   218194\n",
      "2009-08-11  3.982222  4.114568  3.897284  3.924938   3.438466   265275\n",
      "2009-08-12  4.227160  4.387160  4.108642  4.339753   3.801867  2423419\n",
      "2009-08-13  4.373333  4.373333  4.266667  4.331852   3.794945   755831\n",
      "2009-08-14  4.304198  4.333827  4.189630  4.288395   3.756874   559913\n"
     ]
    },
    {
     "name": "stderr",
     "output_type": "stream",
     "text": [
      "[*********************100%%**********************]  1 of 1 completed\n"
     ]
    },
    {
     "name": "stdout",
     "output_type": "stream",
     "text": [
      "\n",
      "Stock: AAP\n",
      "                 Open       High        Low      Close  Adj Close   Volume\n",
      "Date                                                                      \n",
      "2009-08-13  43.119999  43.560001  41.540001  43.270000  38.602779  5816600\n",
      "2009-08-14  43.810001  43.849998  42.919998  43.150002  38.495708  2274200\n",
      "2009-08-17  42.369999  43.500000  42.189999  43.070000  38.424347  1646700\n",
      "2009-08-18  43.169998  43.770000  42.880001  43.099998  38.451107  1674400\n",
      "2009-08-19  42.799999  43.820000  42.779999  43.720001  39.004219  1927300\n"
     ]
    },
    {
     "name": "stderr",
     "output_type": "stream",
     "text": [
      "[*********************100%%**********************]  1 of 1 completed\n"
     ]
    },
    {
     "name": "stdout",
     "output_type": "stream",
     "text": [
      "\n",
      "Stock: AAPL\n",
      "                 Open       High        Low      Close  Adj Close     Volume\n",
      "Date                                                                        \n",
      "2020-03-09  65.937500  69.522499  65.750000  66.542503  64.898872  286744800\n",
      "2020-03-10  69.285004  71.610001  67.342499  71.334999  69.572990  285290000\n",
      "2020-03-11  69.347504  70.305000  67.964996  68.857498  67.156708  255598800\n",
      "2020-03-12  63.985001  67.500000  62.000000  62.057499  60.524662  418474000\n",
      "2020-03-13  66.222504  69.980003  63.237499  69.492500  67.776016  370732000\n"
     ]
    },
    {
     "name": "stderr",
     "output_type": "stream",
     "text": [
      "[*********************100%%**********************]  1 of 1 completed\n",
      "[*********************100%%**********************]  1 of 1 completed"
     ]
    },
    {
     "name": "stdout",
     "output_type": "stream",
     "text": [
      "\n",
      "Stock: AAU\n",
      "            Open  High   Low   Close  Adj Close  Volume\n",
      "Date                                                   \n",
      "2009-12-04  1.11  1.12  1.03  1.0800     1.0800  963500\n",
      "2009-12-07  1.06  1.12  0.99  1.0880     1.0880  474452\n",
      "2009-12-08  1.10  1.10  1.00  1.0264     1.0264  170224\n",
      "2009-12-09  1.06  1.20  1.04  1.2000     1.2000  330364\n",
      "2009-12-10  1.15  1.15  1.08  1.1000     1.1000  312162\n"
     ]
    },
    {
     "name": "stderr",
     "output_type": "stream",
     "text": [
      "\n",
      "\n",
      "1 Failed download:\n",
      "['AAV']: Exception('%ticker%: No price data found, symbol may be delisted (1d 2009-08-12 00:00:00+00:00 -> 2019-08-02 13:03:44+00:00)')\n"
     ]
    },
    {
     "name": "stdout",
     "output_type": "stream",
     "text": [
      "\n",
      "Stock: AAV\n",
      "Empty DataFrame\n",
      "Columns: [Open, High, Low, Close, Adj Close, Volume]\n",
      "Index: []\n"
     ]
    },
    {
     "name": "stderr",
     "output_type": "stream",
     "text": [
      "[*********************100%%**********************]  1 of 1 completed\n",
      "\n",
      "1 Failed download:\n",
      "['AAVL']: Exception(\"%ticker%: Data doesn't exist for startDate = 1405900800, endDate = 1462532476\")\n"
     ]
    },
    {
     "name": "stdout",
     "output_type": "stream",
     "text": [
      "\n",
      "Stock: AAVL\n",
      "Empty DataFrame\n",
      "Columns: [Open, High, Low, Close, Adj Close, Volume]\n",
      "Index: []\n"
     ]
    },
    {
     "name": "stderr",
     "output_type": "stream",
     "text": [
      "[*********************100%%**********************]  1 of 1 completed\n",
      "\n",
      "1 Failed download:\n",
      "['AAWW']: Exception('%ticker%: No timezone found, symbol may be delisted')\n"
     ]
    },
    {
     "name": "stdout",
     "output_type": "stream",
     "text": [
      "\n",
      "Stock: AAWW\n",
      "Empty DataFrame\n",
      "Columns: [Open, High, Low, Close, Adj Close, Volume]\n",
      "Index: []\n"
     ]
    },
    {
     "name": "stderr",
     "output_type": "stream",
     "text": [
      "[*********************100%%**********************]  1 of 1 completed\n"
     ]
    },
    {
     "name": "stdout",
     "output_type": "stream",
     "text": [
      "\n",
      "Stock: AAXJ\n",
      "                 Open       High        Low      Close  Adj Close   Volume\n",
      "Date                                                                      \n",
      "2011-09-14  52.580002  53.130001  51.720001  52.759998  41.650257   253500\n",
      "2011-09-15  53.029999  53.369999  52.650002  53.220001  42.013390   219900\n",
      "2011-09-16  53.580002  53.810001  53.139999  53.700001  42.392319  1315700\n",
      "2011-09-19  51.910000  52.279999  51.509998  52.070000  41.105541   167300\n",
      "2011-09-20  52.230000  52.660000  51.770000  51.790001  40.884510   247200\n"
     ]
    },
    {
     "name": "stderr",
     "output_type": "stream",
     "text": [
      "[*********************100%%**********************]  1 of 1 completed\n"
     ]
    },
    {
     "name": "stdout",
     "output_type": "stream",
     "text": [
      "\n",
      "Stock: AB\n",
      "                 Open       High        Low      Close  Adj Close  Volume\n",
      "Date                                                                     \n",
      "2009-08-07  21.150000  21.719999  20.270000  21.420000   6.774149  948900\n",
      "2009-08-10  21.309999  21.400000  20.809999  21.129999   6.682435  397300\n",
      "2009-08-11  20.940001  20.940001  20.340000  20.680000   6.540122  395000\n",
      "2009-08-12  20.680000  21.410000  20.590000  21.139999   6.685596  596700\n",
      "2009-08-13  21.639999  21.920000  21.139999  21.850000   6.910138  484200\n"
     ]
    },
    {
     "name": "stderr",
     "output_type": "stream",
     "text": [
      "[*********************100%%**********************]  1 of 1 completed\n",
      "\n",
      "1 Failed download:\n",
      "['ABAC']: Exception('%ticker%: No price data found, symbol may be delisted (1d 2014-08-21 00:00:00+00:00 -> 2019-01-15 09:57:56+00:00)')\n"
     ]
    },
    {
     "name": "stdout",
     "output_type": "stream",
     "text": [
      "\n",
      "Stock: ABAC\n",
      "Empty DataFrame\n",
      "Columns: [Open, High, Low, Close, Adj Close, Volume]\n",
      "Index: []\n"
     ]
    },
    {
     "name": "stderr",
     "output_type": "stream",
     "text": [
      "[*********************100%%**********************]  1 of 1 completed\n"
     ]
    },
    {
     "name": "stdout",
     "output_type": "stream",
     "text": [
      "\n",
      "Stock: ABAX\n",
      "                 Open       High        Low      Close  Adj Close  Volume\n",
      "Date                                                                     \n",
      "2014-02-28  37.990002  38.410000  37.325001  37.950001  36.415550  293636\n",
      "2014-03-03  37.650002  38.110001  37.470001  37.700001  36.175663  108083\n",
      "2014-03-04  38.150002  39.230000  38.150002  38.689999  37.125633  249200\n",
      "2014-03-05  38.590000  38.959999  38.389999  38.880001  37.307949  146662\n",
      "2014-03-06  38.860001  39.180000  38.615002  39.009998  37.432690  125951\n"
     ]
    },
    {
     "name": "stderr",
     "output_type": "stream",
     "text": [
      "[*********************100%%**********************]  1 of 1 completed\n",
      "\n",
      "1 Failed download:\n",
      "['ABB']: Exception('%ticker%: No timezone found, symbol may be delisted')\n"
     ]
    },
    {
     "name": "stdout",
     "output_type": "stream",
     "text": [
      "\n",
      "Stock: ABB\n",
      "Empty DataFrame\n",
      "Columns: [Open, High, Low, Close, Adj Close, Volume]\n",
      "Index: []\n"
     ]
    },
    {
     "name": "stderr",
     "output_type": "stream",
     "text": [
      "[*********************100%%**********************]  1 of 1 completed\n"
     ]
    },
    {
     "name": "stdout",
     "output_type": "stream",
     "text": [
      "\n",
      "Stock: ABBV\n",
      "                 Open       High        Low      Close  Adj Close    Volume\n",
      "Date                                                                       \n",
      "2013-01-02  34.919998  35.400002  34.099998  35.119999  22.002174  13767900\n",
      "2013-01-03  35.000000  35.000000  34.160000  34.830002  21.820496  16739300\n",
      "2013-01-04  34.619999  34.889999  34.250000  34.389999  21.544846  21372100\n",
      "2013-01-07  34.150002  35.450001  34.150002  34.459999  21.588694  17897100\n",
      "2013-01-08  34.290001  34.639999  33.360001  33.709999  21.118834  17863300\n"
     ]
    },
    {
     "name": "stderr",
     "output_type": "stream",
     "text": [
      "[*********************100%%**********************]  1 of 1 completed\n",
      "\n",
      "1 Failed download:\n",
      "['ABC']: Exception('%ticker%: No timezone found, symbol may be delisted')\n"
     ]
    },
    {
     "name": "stdout",
     "output_type": "stream",
     "text": [
      "\n",
      "Stock: ABC\n",
      "Empty DataFrame\n",
      "Columns: [Open, High, Low, Close, Adj Close, Volume]\n",
      "Index: []\n"
     ]
    },
    {
     "name": "stderr",
     "output_type": "stream",
     "text": [
      "[*********************100%%**********************]  1 of 1 completed\n"
     ]
    },
    {
     "name": "stdout",
     "output_type": "stream",
     "text": [
      "\n",
      "Stock: ABCB\n",
      "                 Open       High        Low      Close  Adj Close   Volume\n",
      "Date                                                                      \n",
      "2020-03-12  24.000000  25.910000  23.160000  24.090000  22.507446   802900\n",
      "2020-03-13  25.850000  26.540001  23.010000  25.690001  24.002340  1127800\n",
      "2020-03-16  21.700001  22.809999  21.450001  21.830000  20.395912   984100\n",
      "2020-03-17  22.340000  24.610001  21.260000  24.330000  22.731678   840900\n",
      "2020-03-18  22.820000  23.370001  19.650000  20.340000  19.003799   948800\n"
     ]
    },
    {
     "name": "stderr",
     "output_type": "stream",
     "text": [
      "[*********************100%%**********************]  1 of 1 completed\n"
     ]
    },
    {
     "name": "stdout",
     "output_type": "stream",
     "text": [
      "\n",
      "Stock: ABCD\n",
      "            Open    High   Low  Close  Adj Close  Volume\n",
      "Date                                                    \n",
      "2011-05-24  2.90  2.9300  2.85   2.90       2.90   67350\n",
      "2011-05-25  2.95  3.1999  2.95   3.16       3.16   51591\n",
      "2011-05-26  3.14  3.2900  3.14   3.26       3.26   60855\n",
      "2011-05-27  3.29  3.2900  3.21   3.25       3.25   17567\n",
      "2011-05-31  3.28  3.3700  3.26   3.32       3.32   43142\n"
     ]
    },
    {
     "name": "stderr",
     "output_type": "stream",
     "text": [
      "[*********************100%%**********************]  1 of 1 completed\n",
      "[*********************100%%**********************]  1 of 1 completed"
     ]
    },
    {
     "name": "stdout",
     "output_type": "stream",
     "text": [
      "\n",
      "Stock: ABCO\n",
      "                Open      High       Low     Close  Adj Close  Volume\n",
      "Date                                                                 \n",
      "2012-06-18  0.936363  0.936363  0.936363  0.936363   0.936363      27\n",
      "2012-06-19  0.927272  0.927272  0.909090  0.927272   0.927272     904\n",
      "2012-06-20  0.918181  0.927272  0.918181  0.918181   0.918181    2282\n",
      "2012-06-21  0.927272  0.927272  0.927272  0.927272   0.927272     440\n",
      "2012-06-25  0.918181  0.918181  0.918181  0.918181   0.918181    1267\n"
     ]
    },
    {
     "name": "stderr",
     "output_type": "stream",
     "text": [
      "\n",
      "\n",
      "1 Failed download:\n",
      "['ABCW']: Exception('%ticker%: No price data found, symbol may be delisted (1d 2009-12-02 00:00:00+00:00 -> 2016-01-29 14:04:28+00:00)')\n"
     ]
    },
    {
     "name": "stdout",
     "output_type": "stream",
     "text": [
      "\n",
      "Stock: ABCW\n",
      "Empty DataFrame\n",
      "Columns: [Open, High, Low, Close, Adj Close, Volume]\n",
      "Index: []\n"
     ]
    },
    {
     "name": "stderr",
     "output_type": "stream",
     "text": [
      "[*********************100%%**********************]  1 of 1 completed\n",
      "\n",
      "1 Failed download:\n",
      "['ABDC']: Exception('%ticker%: No timezone found, symbol may be delisted')\n"
     ]
    },
    {
     "name": "stdout",
     "output_type": "stream",
     "text": [
      "\n",
      "Stock: ABDC\n",
      "Empty DataFrame\n",
      "Columns: [Open, High, Low, Close, Adj Close, Volume]\n",
      "Index: []\n"
     ]
    },
    {
     "name": "stderr",
     "output_type": "stream",
     "text": [
      "[*********************100%%**********************]  1 of 1 completed\n"
     ]
    },
    {
     "name": "stdout",
     "output_type": "stream",
     "text": [
      "\n",
      "Stock: ABEV\n",
      "            Open  High   Low  Close  Adj Close    Volume\n",
      "Date                                                    \n",
      "2014-01-07  7.28  7.34  7.20   7.25   4.937702  19490500\n",
      "2014-01-08  7.24  7.32  7.21   7.25   4.937702   7226100\n",
      "2014-01-09  7.22  7.23  7.06   7.08   4.821919  16323000\n",
      "2014-01-10  7.11  7.32  7.09   7.30   4.971754  13637500\n",
      "2014-01-13  7.29  7.32  7.21   7.24   4.930888  10418300\n"
     ]
    },
    {
     "name": "stderr",
     "output_type": "stream",
     "text": [
      "[*********************100%%**********************]  1 of 1 completed\n"
     ]
    },
    {
     "name": "stdout",
     "output_type": "stream",
     "text": [
      "\n",
      "Stock: ABG\n",
      "             Open   High    Low  Close  Adj Close  Volume\n",
      "Date                                                     \n",
      "2010-09-01  12.18  12.92  12.06  12.91      12.91  135800\n",
      "2010-09-02  12.88  13.27  12.86  13.13      13.13  129500\n",
      "2010-09-03  13.38  13.60  13.24  13.60      13.60  147200\n",
      "2010-09-07  13.54  13.56  13.02  13.08      13.08  140500\n",
      "2010-09-08  13.17  13.30  12.88  13.04      13.04   69500\n"
     ]
    },
    {
     "name": "stderr",
     "output_type": "stream",
     "text": [
      "[*********************100%%**********************]  1 of 1 completed\n",
      "\n",
      "1 Failed download:\n",
      "['ABGB']: Exception('%ticker%: No price data found, symbol may be delisted (1d 2013-10-17 00:00:00+00:00 -> 2016-04-06 12:39:43+00:00)')\n"
     ]
    },
    {
     "name": "stdout",
     "output_type": "stream",
     "text": [
      "\n",
      "Stock: ABGB\n",
      "Empty DataFrame\n",
      "Columns: [Open, High, Low, Close, Adj Close, Volume]\n",
      "Index: []\n"
     ]
    },
    {
     "name": "stderr",
     "output_type": "stream",
     "text": [
      "[*********************100%%**********************]  1 of 1 completed\n"
     ]
    },
    {
     "name": "stdout",
     "output_type": "stream",
     "text": [
      "\n",
      "Stock: ABIO\n",
      "            Open  High   Low  Close  Adj Close  Volume\n",
      "Date                                                  \n",
      "2019-05-20  9.13  9.38  8.21   8.27       8.27  141600\n",
      "2019-05-21  8.24  8.34  7.70   7.95       7.95  129800\n",
      "2019-05-22  7.83  7.95  7.17   7.17       7.17   90600\n",
      "2019-05-23  7.07  7.32  6.78   7.01       7.01   99000\n",
      "2019-05-24  6.98  7.15  6.78   6.97       6.97   65200\n"
     ]
    },
    {
     "name": "stderr",
     "output_type": "stream",
     "text": [
      "[*********************100%%**********************]  1 of 1 completed\n"
     ]
    },
    {
     "name": "stdout",
     "output_type": "stream",
     "text": [
      "\n",
      "Stock: ABM\n",
      "                 Open       High        Low      Close  Adj Close   Volume\n",
      "Date                                                                      \n",
      "2017-09-07  40.680000  40.869999  37.119999  40.040001  35.022137  1119900\n",
      "2017-09-08  39.340000  40.490002  39.200001  40.209999  35.170841   500900\n",
      "2017-09-11  41.750000  41.750000  40.009998  40.970001  35.835583   553300\n",
      "2017-09-12  41.029999  41.180000  40.340000  40.529999  35.450726   448500\n",
      "2017-09-13  40.230000  40.400002  39.750000  40.009998  34.995899   390300\n"
     ]
    },
    {
     "name": "stderr",
     "output_type": "stream",
     "text": [
      "[*********************100%%**********************]  1 of 1 completed\n"
     ]
    },
    {
     "name": "stdout",
     "output_type": "stream",
     "text": [
      "\n",
      "Stock: ABMD\n",
      "                  Open        High         Low       Close   Adj Close  Volume\n",
      "Date                                                                          \n",
      "2019-10-02  168.630005  169.070007  163.220001  163.389999  163.389999  684929\n",
      "2019-10-03  162.899994  167.039993  159.399994  167.029999  167.029999  761276\n",
      "2019-10-04  168.570007  170.980499  167.979996  169.250000  169.250000  473266\n",
      "2019-10-07  167.020004  169.664993  164.304993  164.429993  164.429993  524905\n",
      "2019-10-08  163.500000  164.375000  158.449997  159.490005  159.490005  811785\n"
     ]
    },
    {
     "name": "stderr",
     "output_type": "stream",
     "text": [
      "[*********************100%%**********************]  1 of 1 completed\n"
     ]
    },
    {
     "name": "stdout",
     "output_type": "stream",
     "text": [
      "\n",
      "Stock: ABR\n",
      "            Open  High   Low  Close  Adj Close  Volume\n",
      "Date                                                  \n",
      "2009-10-23  2.49  2.50  2.35   2.44   0.834657  126000\n",
      "2009-10-26  2.41  2.43  2.25   2.28   0.779925  193900\n",
      "2009-10-27  2.26  2.33  1.92   2.02   0.690986  209400\n",
      "2009-10-28  2.00  2.12  1.82   1.84   0.629413  167600\n",
      "2009-10-29  1.82  2.17  1.82   2.12   0.725194  204600\n"
     ]
    },
    {
     "name": "stderr",
     "output_type": "stream",
     "text": [
      "[*********************100%%**********************]  1 of 1 completed\n",
      "\n",
      "1 Failed download:\n",
      "['ABTL']: Exception('%ticker%: No price data found, symbol may be delisted (1d 2010-06-27 00:00:00+00:00 -> 2017-10-09 13:03:17+00:00)')\n"
     ]
    },
    {
     "name": "stdout",
     "output_type": "stream",
     "text": [
      "\n",
      "Stock: ABTL\n",
      "Empty DataFrame\n",
      "Columns: [Open, High, Low, Close, Adj Close, Volume]\n",
      "Index: []\n"
     ]
    },
    {
     "name": "stderr",
     "output_type": "stream",
     "text": [
      "[*********************100%%**********************]  1 of 1 completed\n",
      "\n",
      "1 Failed download:\n",
      "['ABX']: Exception('%ticker%: No price data found, symbol may be delisted (1d 2009-09-02 00:00:00+00:00 -> 2019-08-02 12:13:19+00:00)')\n"
     ]
    },
    {
     "name": "stdout",
     "output_type": "stream",
     "text": [
      "\n",
      "Stock: ABX\n",
      "Empty DataFrame\n",
      "Columns: [Open, High, Low, Close, Adj Close, Volume]\n",
      "Index: []\n"
     ]
    },
    {
     "name": "stderr",
     "output_type": "stream",
     "text": [
      "[*********************100%%**********************]  1 of 1 completed\n",
      "\n",
      "1 Failed download:\n",
      "['ABY']: Exception('%ticker%: No price data found, symbol may be delisted (1d 2014-06-02 00:00:00+00:00 -> 2017-11-13 13:23:17+00:00)')\n"
     ]
    },
    {
     "name": "stdout",
     "output_type": "stream",
     "text": [
      "\n",
      "Stock: ABY\n",
      "Empty DataFrame\n",
      "Columns: [Open, High, Low, Close, Adj Close, Volume]\n",
      "Index: []\n"
     ]
    },
    {
     "name": "stderr",
     "output_type": "stream",
     "text": [
      "[*********************100%%**********************]  1 of 1 completed\n"
     ]
    },
    {
     "name": "stdout",
     "output_type": "stream",
     "text": [
      "\n",
      "Stock: ACAD\n",
      "            Open  High   Low  Close  Adj Close    Volume\n",
      "Date                                                    \n",
      "2009-07-27  4.14  5.24  4.10   4.40       4.40  13080000\n",
      "2009-07-28  4.59  4.63  3.97   4.38       4.38   3389700\n",
      "2009-07-29  4.24  4.84  4.20   4.39       4.39   2744200\n",
      "2009-07-30  4.53  4.70  4.26   4.50       4.50   1820900\n",
      "2009-07-31  4.51  4.51  3.83   4.07       4.07   1475600\n"
     ]
    },
    {
     "name": "stderr",
     "output_type": "stream",
     "text": [
      "[*********************100%%**********************]  1 of 1 completed\n",
      "\n",
      "1 Failed download:\n",
      "['ACAS']: Exception('%ticker%: No price data found, symbol may be delisted (1d 2009-09-04 00:00:00+00:00 -> 2016-12-15 21:18:39+00:00)')\n"
     ]
    },
    {
     "name": "stdout",
     "output_type": "stream",
     "text": [
      "\n",
      "Stock: ACAS\n",
      "Empty DataFrame\n",
      "Columns: [Open, High, Low, Close, Adj Close, Volume]\n",
      "Index: []\n"
     ]
    },
    {
     "name": "stderr",
     "output_type": "stream",
     "text": [
      "[*********************100%%**********************]  1 of 1 completed\n",
      "\n",
      "1 Failed download:\n",
      "['ACAT']: Exception('%ticker%: No price data found, symbol may be delisted (1d 2010-04-15 00:00:00+00:00 -> 2017-04-10 10:50:43+00:00)')\n"
     ]
    },
    {
     "name": "stdout",
     "output_type": "stream",
     "text": [
      "\n",
      "Stock: ACAT\n",
      "Empty DataFrame\n",
      "Columns: [Open, High, Low, Close, Adj Close, Volume]\n",
      "Index: []\n"
     ]
    },
    {
     "name": "stderr",
     "output_type": "stream",
     "text": [
      "[*********************100%%**********************]  1 of 1 completed\n",
      "\n",
      "1 Failed download:\n",
      "['ACC']: Exception('%ticker%: No timezone found, symbol may be delisted')\n"
     ]
    },
    {
     "name": "stdout",
     "output_type": "stream",
     "text": [
      "\n",
      "Stock: ACC\n",
      "Empty DataFrame\n",
      "Columns: [Open, High, Low, Close, Adj Close, Volume]\n",
      "Index: []\n"
     ]
    },
    {
     "name": "stderr",
     "output_type": "stream",
     "text": [
      "[*********************100%%**********************]  1 of 1 completed\n",
      "[*********************100%%**********************]  1 of 1 completed"
     ]
    },
    {
     "name": "stdout",
     "output_type": "stream",
     "text": [
      "\n",
      "Stock: ACCO\n",
      "             Open   High    Low  Close  Adj Close   Volume\n",
      "Date                                                      \n",
      "2012-04-13  11.75  11.77  11.44  11.53   9.082719   786200\n",
      "2012-04-16  11.60  11.98  11.42  11.78   9.279654   725500\n",
      "2012-04-17  11.61  11.72  11.38  11.38   8.964557  1815100\n",
      "2012-04-18  11.33  11.48  10.97  11.32   8.917293  1551400\n",
      "2012-04-19  11.30  11.36  10.76  10.99   8.657335  2229500\n"
     ]
    },
    {
     "name": "stderr",
     "output_type": "stream",
     "text": [
      "\n",
      "\n",
      "1 Failed download:\n",
      "['ACCU']: Exception(\"%ticker%: Period 'max' is invalid, must be one of ['1d', '5d']\")\n"
     ]
    },
    {
     "name": "stdout",
     "output_type": "stream",
     "text": [
      "\n",
      "Stock: ACCU\n",
      "Empty DataFrame\n",
      "Columns: [Open, High, Low, Close, Adj Close, Volume]\n",
      "Index: []\n"
     ]
    },
    {
     "name": "stderr",
     "output_type": "stream",
     "text": [
      "[*********************100%%**********************]  1 of 1 completed\n",
      "\n",
      "1 Failed download:\n",
      "['ACE']: Exception(\"%ticker%: Data doesn't exist for startDate = 1250035200, endDate = 1455657676\")\n"
     ]
    },
    {
     "name": "stdout",
     "output_type": "stream",
     "text": [
      "\n",
      "Stock: ACE\n",
      "Empty DataFrame\n",
      "Columns: [Open, High, Low, Close, Adj Close, Volume]\n",
      "Index: []\n"
     ]
    },
    {
     "name": "stderr",
     "output_type": "stream",
     "text": [
      "[*********************100%%**********************]  1 of 1 completed\n"
     ]
    },
    {
     "name": "stdout",
     "output_type": "stream",
     "text": [
      "\n",
      "Stock: ACET\n",
      "                  Open        High         Low       Close   Adj Close  Volume\n",
      "Date                                                                          \n",
      "2018-01-26  130.339996  143.500000  113.470001  118.160004  118.160004  339571\n",
      "2018-01-29  120.470001  120.470001  110.809998  113.610001  113.610001   41343\n",
      "2018-01-30  113.959999  115.787003  106.959999  110.180000  110.180000   21786\n",
      "2018-01-31  109.970001  115.919998  109.059998  113.540001  113.540001   25786\n",
      "2018-02-01  113.540001  121.806999  112.161003  117.250000  117.250000   11814\n"
     ]
    },
    {
     "name": "stderr",
     "output_type": "stream",
     "text": [
      "[*********************100%%**********************]  1 of 1 completed\n"
     ]
    },
    {
     "name": "stdout",
     "output_type": "stream",
     "text": [
      "\n",
      "Stock: ACFC\n",
      "                 Open       High        Low      Close  Adj Close  Volume\n",
      "Date                                                                     \n",
      "2010-04-06  19.897959  20.306122  17.295918  20.306122  20.306122    5146\n",
      "2010-04-07  20.408163  20.663265  19.643368  20.596428  20.596428   13980\n",
      "2010-04-08  20.918367  20.918367  20.408163  20.918367  20.918367    1365\n",
      "2010-04-09  21.683674  21.683674  20.969387  21.428572  21.428572    6133\n",
      "2010-04-12  20.306122  21.326530  19.897959  21.326530  21.326530    3390\n"
     ]
    },
    {
     "name": "stderr",
     "output_type": "stream",
     "text": [
      "[*********************100%%**********************]  1 of 1 completed\n"
     ]
    },
    {
     "name": "stdout",
     "output_type": "stream",
     "text": [
      "\n",
      "Stock: ACFN\n",
      "            Open  High   Low  Close  Adj Close  Volume\n",
      "Date                                                  \n",
      "2009-11-09  8.10  8.33  7.73   8.06   4.446565  117400\n",
      "2009-11-10  8.00  8.20  7.63   7.65   4.220375   87300\n",
      "2009-11-11  7.80  8.10  7.76   7.77   4.286577  102200\n",
      "2009-11-12  7.87  8.04  7.58   7.89   4.352778  116800\n",
      "2009-11-13  7.99  8.05  6.86   7.25   3.999701  330300\n"
     ]
    },
    {
     "name": "stderr",
     "output_type": "stream",
     "text": [
      "[*********************100%%**********************]  1 of 1 completed\n",
      "\n",
      "1 Failed download:\n",
      "['ACG']: Exception(\"%ticker%: Data doesn't exist for startDate = 1403730468, endDate = 1440792430\")\n"
     ]
    },
    {
     "name": "stdout",
     "output_type": "stream",
     "text": [
      "\n",
      "Stock: ACG\n",
      "Empty DataFrame\n",
      "Columns: [Open, High, Low, Close, Adj Close, Volume]\n",
      "Index: []\n"
     ]
    },
    {
     "name": "stderr",
     "output_type": "stream",
     "text": [
      "[*********************100%%**********************]  1 of 1 completed\n"
     ]
    },
    {
     "name": "stdout",
     "output_type": "stream",
     "text": [
      "\n",
      "Stock: ACGL\n",
      "                Open      High       Low     Close  Adj Close   Volume\n",
      "Date                                                                  \n",
      "2009-11-06  7.491111  7.652222  7.491111  7.645556   7.645556  3996000\n",
      "2009-11-09  7.637778  7.747778  7.603333  7.747778   7.747778  3357000\n",
      "2009-11-10  7.704444  7.766667  7.704444  7.721111   7.721111  2358000\n",
      "2009-11-11  7.773333  7.815556  7.723333  7.800000   7.800000  3471300\n",
      "2009-11-12  7.807778  7.813333  7.751111  7.768889   7.768889  6414300\n"
     ]
    },
    {
     "name": "stderr",
     "output_type": "stream",
     "text": [
      "[*********************100%%**********************]  1 of 1 completed\n",
      "\n",
      "1 Failed download:\n",
      "['ACH']: Exception('%ticker%: No timezone found, symbol may be delisted')\n"
     ]
    },
    {
     "name": "stdout",
     "output_type": "stream",
     "text": [
      "\n",
      "Stock: ACH\n",
      "Empty DataFrame\n",
      "Columns: [Open, High, Low, Close, Adj Close, Volume]\n",
      "Index: []\n"
     ]
    },
    {
     "name": "stderr",
     "output_type": "stream",
     "text": [
      "[*********************100%%**********************]  1 of 1 completed\n"
     ]
    },
    {
     "name": "stdout",
     "output_type": "stream",
     "text": [
      "\n",
      "Stock: ACHC\n",
      "            Open  High   Low  Close  Adj Close  Volume\n",
      "Date                                                  \n",
      "2011-12-05  7.90  8.00  7.20   7.89       7.89   55500\n",
      "2011-12-06  7.80  8.74  5.43   8.02       8.02   43700\n",
      "2011-12-07  8.00  8.47  7.98   8.47       8.47   16600\n",
      "2011-12-08  8.48  8.48  8.00   8.25       8.25   24800\n",
      "2011-12-09  8.07  8.07  7.82   8.00       8.00   15900\n"
     ]
    },
    {
     "name": "stderr",
     "output_type": "stream",
     "text": [
      "[*********************100%%**********************]  1 of 1 completed\n",
      "\n",
      "1 Failed download:\n",
      "['ACHN']: Exception('%ticker%: No timezone found, symbol may be delisted')\n"
     ]
    },
    {
     "name": "stdout",
     "output_type": "stream",
     "text": [
      "\n",
      "Stock: ACHN\n",
      "Empty DataFrame\n",
      "Columns: [Open, High, Low, Close, Adj Close, Volume]\n",
      "Index: []\n"
     ]
    },
    {
     "name": "stderr",
     "output_type": "stream",
     "text": [
      "[*********************100%%**********************]  1 of 1 completed\n"
     ]
    },
    {
     "name": "stdout",
     "output_type": "stream",
     "text": [
      "\n",
      "Stock: ACIW\n",
      "                Open      High       Low     Close  Adj Close   Volume\n",
      "Date                                                                  \n",
      "2009-09-14  4.736667  4.990000  4.666667  4.950000   4.950000   626700\n",
      "2009-09-15  4.933333  5.216667  4.873333  5.140000   5.140000   777600\n",
      "2009-09-16  5.123333  5.210000  5.083333  5.170000   5.170000   302100\n",
      "2009-09-17  5.146667  5.243333  5.106667  5.186667   5.186667   312000\n",
      "2009-09-18  5.190000  5.316667  5.106667  5.283333   5.283333  1052400\n"
     ]
    },
    {
     "name": "stderr",
     "output_type": "stream",
     "text": [
      "[*********************100%%**********************]  1 of 1 completed\n"
     ]
    },
    {
     "name": "stdout",
     "output_type": "stream",
     "text": [
      "\n",
      "Stock: ACLS\n",
      "            Open  High   Low  Close  Adj Close  Volume\n",
      "Date                                                  \n",
      "2009-10-13  5.72  6.76  5.68   6.52       6.52  979325\n",
      "2009-10-14  7.00  7.12  6.08   6.36       6.36  732500\n",
      "2009-10-15  6.64  6.64  5.60   6.24       6.24  576725\n",
      "2009-10-16  6.12  6.16  5.68   5.92       5.92  331825\n",
      "2009-10-19  5.88  5.88  5.24   5.32       5.32  481525\n"
     ]
    },
    {
     "name": "stderr",
     "output_type": "stream",
     "text": [
      "[*********************100%%**********************]  1 of 1 completed\n"
     ]
    },
    {
     "name": "stdout",
     "output_type": "stream",
     "text": [
      "\n",
      "Stock: ACM\n",
      "                 Open       High        Low      Close  Adj Close   Volume\n",
      "Date                                                                      \n",
      "2009-08-07  29.750000  31.590000  28.850000  31.400000  30.724422  1849400\n",
      "2009-08-10  31.139999  31.150000  30.230000  30.459999  29.804646  1072000\n",
      "2009-08-11  30.290001  30.549999  29.780001  30.290001  29.638304   529000\n",
      "2009-08-12  29.940001  30.680000  29.610001  30.049999  29.403465   509300\n",
      "2009-08-13  30.020000  30.049999  29.110001  29.570000  28.933794   931800\n"
     ]
    },
    {
     "name": "stderr",
     "output_type": "stream",
     "text": [
      "[*********************100%%**********************]  1 of 1 completed\n",
      "\n",
      "1 Failed download:\n",
      "['ACMP']: Exception('%ticker%: No price data found, symbol may be delisted (1d 2012-08-09 00:00:00+00:00 -> 2015-01-26 21:53:15+00:00)')\n"
     ]
    },
    {
     "name": "stdout",
     "output_type": "stream",
     "text": [
      "\n",
      "Stock: ACMP\n",
      "Empty DataFrame\n",
      "Columns: [Open, High, Low, Close, Adj Close, Volume]\n",
      "Index: []\n"
     ]
    },
    {
     "name": "stderr",
     "output_type": "stream",
     "text": [
      "[*********************100%%**********************]  1 of 1 completed\n"
     ]
    },
    {
     "name": "stdout",
     "output_type": "stream",
     "text": [
      "\n",
      "Stock: ACN\n",
      "                 Open       High        Low      Close  Adj Close    Volume\n",
      "Date                                                                       \n",
      "2009-10-01  37.040001  37.500000  36.389999  36.529999  27.438387   6463200\n",
      "2009-10-02  37.110001  38.240002  36.900002  37.500000  28.166975  11315600\n",
      "2009-10-05  37.689999  38.240002  37.400002  37.990002  28.535023   6793200\n",
      "2009-10-06  37.709999  38.439999  37.700001  38.330002  28.790394   6850300\n",
      "2009-10-07  38.070000  38.590000  38.009998  38.410000  28.850498   4686400\n"
     ]
    },
    {
     "name": "stderr",
     "output_type": "stream",
     "text": [
      "[*********************100%%**********************]  1 of 1 completed\n"
     ]
    },
    {
     "name": "stdout",
     "output_type": "stream",
     "text": [
      "\n",
      "Stock: ACNB\n",
      "                 Open       High        Low      Close  Adj Close  Volume\n",
      "Date                                                                     \n",
      "2013-05-09  16.930000  16.950001  16.500000  16.530001  11.398339    2700\n",
      "2013-05-10  16.500000  16.530001  16.500000  16.520000  11.391443     800\n",
      "2013-05-13  16.940001  16.940001  16.940001  16.940001  11.681054     300\n",
      "2013-05-14  16.709999  16.820000  16.700001  16.799999  11.584517    2800\n",
      "2013-05-15  16.730000  16.780001  16.500000  16.520000  11.391443    1600\n"
     ]
    },
    {
     "name": "stderr",
     "output_type": "stream",
     "text": [
      "[*********************100%%**********************]  1 of 1 completed\n"
     ]
    },
    {
     "name": "stdout",
     "output_type": "stream",
     "text": [
      "\n",
      "Stock: ACOR\n",
      "                   Open         High          Low        Close    Adj Close  \\\n",
      "Date                                                                          \n",
      "2009-10-09  2421.595215  2458.795166  1930.796143  2102.395752  2102.395752   \n",
      "2009-10-12  2141.995605  2229.595459  2047.195923  2067.595947  2067.595947   \n",
      "2009-10-13  2068.795898  2069.995850  1862.396240  2008.796021  2008.796021   \n",
      "2009-10-14  2008.796021  2008.796021  2008.796021  2008.796021  2008.796021   \n",
      "2009-10-15  3013.194092  3119.993652  2911.194092  2957.994141  2957.994141   \n",
      "\n",
      "            Volume  \n",
      "Date                \n",
      "2009-10-09  121321  \n",
      "2009-10-12   42996  \n",
      "2009-10-13   40206  \n",
      "2009-10-14       0  \n",
      "2009-10-15  109661  \n"
     ]
    },
    {
     "name": "stderr",
     "output_type": "stream",
     "text": [
      "[*********************100%%**********************]  1 of 1 completed\n"
     ]
    },
    {
     "name": "stdout",
     "output_type": "stream",
     "text": [
      "\n",
      "Stock: ACP\n",
      "                 Open       High        Low      Close  Adj Close  Volume\n",
      "Date                                                                     \n",
      "2011-01-27  18.590302  18.636778  18.553122  18.590302   3.963946  360941\n",
      "2011-01-28  18.618189  18.766911  18.618189  18.683254   3.983768   16891\n",
      "2011-01-31  18.766911  18.897041  18.766911  18.776205   4.003586    7961\n",
      "2011-02-01  18.776205  18.776205  18.599598  18.683254   3.983768   10973\n",
      "2011-02-02  18.636778  18.655369  18.590302  18.636778   3.973856   13018\n"
     ]
    },
    {
     "name": "stderr",
     "output_type": "stream",
     "text": [
      "[*********************100%%**********************]  1 of 1 completed\n",
      "\n",
      "1 Failed download:\n",
      "['ACPW']: Exception('%ticker%: No price data found, symbol may be delisted (1d 2009-10-22 00:00:00+00:00 -> 2016-09-30 13:15:34+00:00)')\n"
     ]
    },
    {
     "name": "stdout",
     "output_type": "stream",
     "text": [
      "\n",
      "Stock: ACPW\n",
      "Empty DataFrame\n",
      "Columns: [Open, High, Low, Close, Adj Close, Volume]\n",
      "Index: []\n"
     ]
    },
    {
     "name": "stderr",
     "output_type": "stream",
     "text": [
      "[*********************100%%**********************]  1 of 1 completed\n"
     ]
    },
    {
     "name": "stdout",
     "output_type": "stream",
     "text": [
      "\n",
      "Stock: ACRE\n",
      "                 Open       High        Low  Close  Adj Close  Volume\n",
      "Date                                                                 \n",
      "2012-04-27  18.000000  18.030001  17.799999  17.82   5.921300  558900\n",
      "2012-04-30  17.799999  18.049999  17.760000  17.98   5.974466  123800\n",
      "2012-05-01  17.980000  18.059999  17.950001  18.00   5.981112   91100\n",
      "2012-05-02  18.000000  18.070000  17.809999  17.84   5.927946  139700\n",
      "2012-05-03  17.930000  17.990000  17.600000  17.75   5.898041  169000\n"
     ]
    },
    {
     "name": "stderr",
     "output_type": "stream",
     "text": [
      "[*********************100%%**********************]  1 of 1 completed\n",
      "\n",
      "1 Failed download:\n",
      "['ACRX']: Exception('%ticker%: No timezone found, symbol may be delisted')\n"
     ]
    },
    {
     "name": "stdout",
     "output_type": "stream",
     "text": [
      "\n",
      "Stock: ACRX\n",
      "Empty DataFrame\n",
      "Columns: [Open, High, Low, Close, Adj Close, Volume]\n",
      "Index: []\n"
     ]
    },
    {
     "name": "stderr",
     "output_type": "stream",
     "text": [
      "[*********************100%%**********************]  1 of 1 completed\n",
      "\n",
      "1 Failed download:\n",
      "['ACSF']: Exception('%ticker%: No timezone found, symbol may be delisted')\n"
     ]
    },
    {
     "name": "stdout",
     "output_type": "stream",
     "text": [
      "\n",
      "Stock: ACSF\n",
      "Empty DataFrame\n",
      "Columns: [Open, High, Low, Close, Adj Close, Volume]\n",
      "Index: []\n"
     ]
    },
    {
     "name": "stderr",
     "output_type": "stream",
     "text": [
      "[*********************100%%**********************]  1 of 1 completed\n"
     ]
    },
    {
     "name": "stdout",
     "output_type": "stream",
     "text": [
      "\n",
      "Stock: ACST\n",
      "                   Open         High          Low        Close    Adj Close  \\\n",
      "Date                                                                          \n",
      "2013-10-02  1224.000000  1224.000000  1108.800049  1195.199951  1195.199951   \n",
      "2013-10-03  1161.599976  1224.000000  1147.199951  1147.199951  1147.199951   \n",
      "2013-10-04  1171.199951  1171.199951  1152.000000  1152.000000  1152.000000   \n",
      "2013-10-07  1166.400024  1166.400024  1137.599976  1142.400024  1142.400024   \n",
      "2013-10-08  1152.000000  1152.000000  1080.000000  1089.599976  1089.599976   \n",
      "\n",
      "            Volume  \n",
      "Date                \n",
      "2013-10-02     111  \n",
      "2013-10-03      51  \n",
      "2013-10-04      21  \n",
      "2013-10-07      38  \n",
      "2013-10-08      90  \n"
     ]
    },
    {
     "name": "stderr",
     "output_type": "stream",
     "text": [
      "[*********************100%%**********************]  1 of 1 completed\n",
      "\n",
      "1 Failed download:\n",
      "['ACT']: Exception(\"%ticker%: Data doesn't exist for startDate = 1360540800, endDate = 1585248579\")\n"
     ]
    },
    {
     "name": "stdout",
     "output_type": "stream",
     "text": [
      "\n",
      "Stock: ACT\n",
      "Empty DataFrame\n",
      "Columns: [Open, High, Low, Close, Adj Close, Volume]\n",
      "Index: []\n"
     ]
    },
    {
     "name": "stderr",
     "output_type": "stream",
     "text": [
      "[*********************100%%**********************]  1 of 1 completed\n"
     ]
    },
    {
     "name": "stdout",
     "output_type": "stream",
     "text": [
      "\n",
      "Stock: ACTA\n",
      "                 Open       High        Low      Close  Adj Close  Volume\n",
      "Date                                                                     \n",
      "2014-09-15  16.240000  17.400000  16.010000  17.250000  17.250000  128434\n",
      "2014-09-16  17.389999  18.080000  17.110001  17.139999  17.139999  114542\n",
      "2014-09-17  17.500000  17.500000  17.030001  17.219999  17.219999   86990\n",
      "2014-09-18  17.879999  17.879999  17.270000  17.480000  17.480000   66529\n",
      "2014-09-19  16.530001  17.540001  15.620000  15.990000  15.990000  473922\n"
     ]
    },
    {
     "name": "stderr",
     "output_type": "stream",
     "text": [
      "[*********************100%%**********************]  1 of 1 completed\n"
     ]
    },
    {
     "name": "stdout",
     "output_type": "stream",
     "text": [
      "\n",
      "Stock: ACTG\n",
      "            Open  High   Low  Close  Adj Close  Volume\n",
      "Date                                                  \n",
      "2009-11-09  8.37  8.53  8.26   8.42   7.606596  158600\n",
      "2009-11-10  8.36  8.51  8.13   8.19   7.398815  179700\n",
      "2009-11-11  8.25  8.28  8.10   8.15   7.362679   69900\n",
      "2009-11-12  8.13  8.23  7.80   7.93   7.163932  214900\n",
      "2009-11-13  7.94  8.25  7.77   8.19   7.398815  588000\n"
     ]
    },
    {
     "name": "stderr",
     "output_type": "stream",
     "text": [
      "[*********************100%%**********************]  1 of 1 completed\n",
      "\n",
      "1 Failed download:\n",
      "['ACTS']: Exception('%ticker%: No price data found, symbol may be delisted (1d 2010-08-05 00:00:00+00:00 -> 2016-09-12 20:32:31+00:00)')\n"
     ]
    },
    {
     "name": "stdout",
     "output_type": "stream",
     "text": [
      "\n",
      "Stock: ACTS\n",
      "Empty DataFrame\n",
      "Columns: [Open, High, Low, Close, Adj Close, Volume]\n",
      "Index: []\n"
     ]
    },
    {
     "name": "stderr",
     "output_type": "stream",
     "text": [
      "[*********************100%%**********************]  1 of 1 completed\n"
     ]
    },
    {
     "name": "stdout",
     "output_type": "stream",
     "text": [
      "\n",
      "Stock: ACU\n",
      "             Open   High    Low  Close  Adj Close  Volume\n",
      "Date                                                     \n",
      "2010-04-12  13.04  13.04  10.74  11.36   8.443731   20000\n",
      "2010-04-13  11.31  11.40  10.78  10.80   8.027489    7900\n",
      "2010-04-14  10.91  11.16  10.69  11.04   8.205879   17000\n",
      "2010-04-15  11.17  11.41  10.99  11.36   8.443731    9600\n",
      "2010-04-16  11.44  11.55  11.15  11.48   8.532920   12000\n"
     ]
    },
    {
     "name": "stderr",
     "output_type": "stream",
     "text": [
      "[*********************100%%**********************]  1 of 1 completed\n"
     ]
    },
    {
     "name": "stdout",
     "output_type": "stream",
     "text": [
      "\n",
      "Stock: ACUR\n",
      "             Open       High    Low      Close  Adj Close  Volume\n",
      "Date                                                             \n",
      "2010-02-23  24.40  25.750000  24.25  25.700001  25.700001    4053\n",
      "2010-02-24  24.65  26.049999  24.65  25.900000  25.900000    1650\n",
      "2010-02-25  25.75  26.299999  25.35  26.150000  26.150000    1778\n",
      "2010-02-26  26.15  26.150000  24.40  24.500000  24.500000    1862\n",
      "2010-03-01  24.75  25.799999  23.10  24.700001  24.700001    5435\n"
     ]
    },
    {
     "name": "stderr",
     "output_type": "stream",
     "text": [
      "[*********************100%%**********************]  1 of 1 completed\n"
     ]
    },
    {
     "name": "stdout",
     "output_type": "stream",
     "text": [
      "\n",
      "Stock: ACWI\n",
      "                 Open       High        Low      Close  Adj Close  Volume\n",
      "Date                                                                     \n",
      "2012-07-20  43.910000  43.919998  43.680000  43.700001  34.507141  779900\n",
      "2012-07-23  42.770000  43.099998  42.590000  43.009998  33.962288  928700\n",
      "2012-07-24  43.020000  43.040001  42.360001  42.630001  33.662231  120000\n",
      "2012-07-25  42.820000  42.950001  42.500000  42.709999  33.725395  546600\n",
      "2012-07-26  43.509998  43.759998  43.400002  43.660000  34.475559  195600\n"
     ]
    },
    {
     "name": "stderr",
     "output_type": "stream",
     "text": [
      "[*********************100%%**********************]  1 of 1 completed\n"
     ]
    },
    {
     "name": "stdout",
     "output_type": "stream",
     "text": [
      "\n",
      "Stock: ACWV\n",
      "                 Open       High        Low      Close  Adj Close  Volume\n",
      "Date                                                                     \n",
      "2011-10-20  49.990002  52.000000  49.840000  52.000000  39.498871    4700\n",
      "2011-10-21  50.740002  50.770000  50.689999  50.689999  38.503807    3000\n",
      "2011-10-24  50.689999  50.689999  50.689999  50.689999  38.503807       0\n",
      "2011-10-25  50.689999  50.689999  50.689999  50.689999  38.503807       0\n",
      "2011-10-26  51.220001  51.290001  51.060001  51.060001  38.784866     700\n"
     ]
    },
    {
     "name": "stderr",
     "output_type": "stream",
     "text": [
      "[*********************100%%**********************]  1 of 1 completed\n",
      "[*********************100%%**********************]  1 of 1 completed"
     ]
    },
    {
     "name": "stdout",
     "output_type": "stream",
     "text": [
      "\n",
      "Stock: ACWX\n",
      "                 Open       High        Low      Close  Adj Close   Volume\n",
      "Date                                                                      \n",
      "2012-08-22  38.599998  38.919998  38.529999  38.869999  28.902369    87700\n",
      "2012-08-23  38.730000  38.730000  38.419998  38.509998  28.634691  1590700\n",
      "2012-08-24  38.240002  38.639999  38.200001  38.470001  28.604940    83000\n",
      "2012-08-27  38.509998  38.599998  38.349998  38.380001  28.538025   906100\n",
      "2012-08-28  38.349998  38.439999  38.250000  38.320000  28.493410   211800\n"
     ]
    },
    {
     "name": "stderr",
     "output_type": "stream",
     "text": [
      "\n",
      "\n",
      "1 Failed download:\n",
      "['ACXM']: Exception('%ticker%: No price data found, symbol may be delisted (1d 2009-08-10 00:00:00+00:00 -> 2018-09-25 13:06:40+00:00)')\n"
     ]
    },
    {
     "name": "stdout",
     "output_type": "stream",
     "text": [
      "\n",
      "Stock: ACXM\n",
      "Empty DataFrame\n",
      "Columns: [Open, High, Low, Close, Adj Close, Volume]\n",
      "Index: []\n"
     ]
    },
    {
     "name": "stderr",
     "output_type": "stream",
     "text": [
      "[*********************100%%**********************]  1 of 1 completed\n",
      "\n",
      "1 Failed download:\n",
      "['ACY']: Exception('%ticker%: No timezone found, symbol may be delisted')\n"
     ]
    },
    {
     "name": "stdout",
     "output_type": "stream",
     "text": [
      "\n",
      "Stock: ACY\n",
      "Empty DataFrame\n",
      "Columns: [Open, High, Low, Close, Adj Close, Volume]\n",
      "Index: []\n"
     ]
    },
    {
     "name": "stderr",
     "output_type": "stream",
     "text": [
      "[*********************100%%**********************]  1 of 1 completed\n",
      "\n",
      "1 Failed download:\n",
      "['ADAT']: Exception('%ticker%: No price data found, symbol may be delisted (1d 2009-12-08 00:00:00+00:00 -> 2016-03-04 14:00:43+00:00)')\n"
     ]
    },
    {
     "name": "stdout",
     "output_type": "stream",
     "text": [
      "\n",
      "Stock: ADAT\n",
      "Empty DataFrame\n",
      "Columns: [Open, High, Low, Close, Adj Close, Volume]\n",
      "Index: []\n"
     ]
    },
    {
     "name": "stderr",
     "output_type": "stream",
     "text": [
      "[*********************100%%**********************]  1 of 1 completed\n"
     ]
    },
    {
     "name": "stdout",
     "output_type": "stream",
     "text": [
      "\n",
      "Stock: ADBE\n",
      "                 Open       High        Low      Close  Adj Close   Volume\n",
      "Date                                                                      \n",
      "2009-08-17  31.719999  31.900000  31.120001  31.209999  31.209999  5500600\n",
      "2009-08-18  31.280001  31.920000  31.100000  31.719999  31.719999  4925700\n",
      "2009-08-19  31.450001  31.879999  31.170000  31.719999  31.719999  5001200\n",
      "2009-08-20  31.830000  32.189999  31.480000  32.099998  32.099998  4676000\n",
      "2009-08-21  32.439999  32.930000  32.000000  32.840000  32.840000  5108600\n"
     ]
    },
    {
     "name": "stderr",
     "output_type": "stream",
     "text": [
      "[*********************100%%**********************]  1 of 1 completed\n",
      "[*********************100%%**********************]  1 of 1 completed"
     ]
    },
    {
     "name": "stdout",
     "output_type": "stream",
     "text": [
      "\n",
      "Stock: ADC\n",
      "                 Open       High    Low      Close  Adj Close  Volume\n",
      "Date                                                                 \n",
      "2009-09-02  20.010000  20.600000  19.66  19.889999   9.191372   28000\n",
      "2009-09-03  20.080000  20.090000  19.60  19.940001   9.214472   20100\n",
      "2009-09-04  19.080000  20.200001  19.07  20.040001   9.260688   30200\n",
      "2009-09-08  20.340000  21.040001  20.23  20.820000   9.621126   28100\n",
      "2009-09-09  20.940001  21.170000  20.51  20.940001   9.676589   33400\n"
     ]
    },
    {
     "name": "stderr",
     "output_type": "stream",
     "text": [
      "\n",
      "\n",
      "1 Failed download:\n",
      "['ADEP']: Exception('%ticker%: No price data found, symbol may be delisted (1d 2010-04-19 00:00:00+00:00 -> 2015-10-09 10:06:28+00:00)')\n"
     ]
    },
    {
     "name": "stdout",
     "output_type": "stream",
     "text": [
      "\n",
      "Stock: ADEP\n",
      "Empty DataFrame\n",
      "Columns: [Open, High, Low, Close, Adj Close, Volume]\n",
      "Index: []\n"
     ]
    },
    {
     "name": "stderr",
     "output_type": "stream",
     "text": [
      "[*********************100%%**********************]  1 of 1 completed\n",
      "\n",
      "1 Failed download:\n",
      "['ADES']: Exception('%ticker%: No timezone found, symbol may be delisted')\n"
     ]
    },
    {
     "name": "stdout",
     "output_type": "stream",
     "text": [
      "\n",
      "Stock: ADES\n",
      "Empty DataFrame\n",
      "Columns: [Open, High, Low, Close, Adj Close, Volume]\n",
      "Index: []\n"
     ]
    },
    {
     "name": "stderr",
     "output_type": "stream",
     "text": [
      "[*********************100%%**********************]  1 of 1 completed\n",
      "\n",
      "1 Failed download:\n",
      "['ADGE']: Exception('%ticker%: No price data found, symbol may be delisted (1d 2010-12-09 00:00:00+00:00 -> 2017-04-13 13:25:32+00:00)')\n"
     ]
    },
    {
     "name": "stdout",
     "output_type": "stream",
     "text": [
      "\n",
      "Stock: ADGE\n",
      "Empty DataFrame\n",
      "Columns: [Open, High, Low, Close, Adj Close, Volume]\n",
      "Index: []\n"
     ]
    },
    {
     "name": "stderr",
     "output_type": "stream",
     "text": [
      "[*********************100%%**********************]  1 of 1 completed\n",
      "\n",
      "1 Failed download:\n",
      "['ADHD']: Exception('%ticker%: No price data found, symbol may be delisted (1d 2013-01-14 00:00:00+00:00 -> 2017-11-09 12:19:44+00:00)')\n"
     ]
    },
    {
     "name": "stdout",
     "output_type": "stream",
     "text": [
      "\n",
      "Stock: ADHD\n",
      "Empty DataFrame\n",
      "Columns: [Open, High, Low, Close, Adj Close, Volume]\n",
      "Index: []\n"
     ]
    },
    {
     "name": "stderr",
     "output_type": "stream",
     "text": [
      "[*********************100%%**********************]  1 of 1 completed\n"
     ]
    },
    {
     "name": "stdout",
     "output_type": "stream",
     "text": [
      "\n",
      "Stock: ADI\n",
      "                 Open       High        Low      Close  Adj Close   Volume\n",
      "Date                                                                      \n",
      "2009-08-12  27.150000  27.549999  27.070000  27.200001  19.086800  3295300\n",
      "2009-08-13  27.969999  28.000000  27.320000  27.809999  19.514847  4374100\n",
      "2009-08-14  27.680000  27.700001  27.020000  27.389999  19.220131  4344000\n",
      "2009-08-17  27.110001  27.150000  26.559999  26.760000  18.778048  4428500\n",
      "2009-08-18  26.820000  27.299999  26.760000  27.219999  19.100832  4816200\n"
     ]
    },
    {
     "name": "stderr",
     "output_type": "stream",
     "text": [
      "[*********************100%%**********************]  1 of 1 completed\n",
      "\n",
      "1 Failed download:\n",
      "['ADK']: Exception(\"%ticker%: Data doesn't exist for startDate = 1282780800, endDate = 1505911572\")\n"
     ]
    },
    {
     "name": "stdout",
     "output_type": "stream",
     "text": [
      "\n",
      "Stock: ADK\n",
      "Empty DataFrame\n",
      "Columns: [Open, High, Low, Close, Adj Close, Volume]\n",
      "Index: []\n"
     ]
    },
    {
     "name": "stderr",
     "output_type": "stream",
     "text": [
      "[*********************100%%**********************]  1 of 1 completed\n"
     ]
    },
    {
     "name": "stdout",
     "output_type": "stream",
     "text": [
      "\n",
      "Stock: ADM\n",
      "                 Open       High        Low      Close  Adj Close   Volume\n",
      "Date                                                                      \n",
      "2009-08-12  28.650000  28.650000  27.709999  27.980000  19.197664  8928600\n",
      "2009-08-13  28.160000  28.500000  27.969999  28.190001  19.341753  6895100\n",
      "2009-08-14  28.219999  28.389999  27.590000  27.870001  19.122194  4690500\n",
      "2009-08-17  27.440001  27.670000  27.030001  27.049999  18.559574  5043700\n",
      "2009-08-18  27.059999  27.610001  27.059999  27.450001  18.932011  4239300\n"
     ]
    },
    {
     "name": "stderr",
     "output_type": "stream",
     "text": [
      "[*********************100%%**********************]  1 of 1 completed\n"
     ]
    },
    {
     "name": "stdout",
     "output_type": "stream",
     "text": [
      "\n",
      "Stock: ADMA\n",
      "             Open   High    Low  Close  Adj Close  Volume\n",
      "Date                                                     \n",
      "2014-12-03  13.25  14.00   9.55  10.61      10.61   83200\n",
      "2014-12-04  10.60  11.50  10.60  10.80      10.80   36300\n",
      "2014-12-05  10.80  10.80  10.10  10.40      10.40    9400\n",
      "2014-12-08  10.80  11.39  10.65  10.75      10.75   22700\n",
      "2014-12-09  10.80  11.15  10.52  10.62      10.62   13400\n"
     ]
    },
    {
     "name": "stderr",
     "output_type": "stream",
     "text": [
      "[*********************100%%**********************]  1 of 1 completed\n",
      "\n",
      "1 Failed download:\n",
      "['ADMP']: Exception('%ticker%: No timezone found, symbol may be delisted')\n"
     ]
    },
    {
     "name": "stdout",
     "output_type": "stream",
     "text": [
      "\n",
      "Stock: ADMP\n",
      "Empty DataFrame\n",
      "Columns: [Open, High, Low, Close, Adj Close, Volume]\n",
      "Index: []\n"
     ]
    },
    {
     "name": "stderr",
     "output_type": "stream",
     "text": [
      "[*********************100%%**********************]  1 of 1 completed\n",
      "\n",
      "1 Failed download:\n",
      "['ADMS']: Exception('%ticker%: No timezone found, symbol may be delisted')\n",
      "[*********************100%%**********************]  1 of 1 completed"
     ]
    },
    {
     "name": "stdout",
     "output_type": "stream",
     "text": [
      "\n",
      "Stock: ADMS\n",
      "Empty DataFrame\n",
      "Columns: [Open, High, Low, Close, Adj Close, Volume]\n",
      "Index: []\n"
     ]
    },
    {
     "name": "stderr",
     "output_type": "stream",
     "text": [
      "\n",
      "\n",
      "1 Failed download:\n",
      "['ADNC']: Exception('%ticker%: No price data found, symbol may be delisted (1d 2012-05-10 00:00:00+00:00 -> 2015-05-01 00:00:08+00:00)')\n"
     ]
    },
    {
     "name": "stdout",
     "output_type": "stream",
     "text": [
      "\n",
      "Stock: ADNC\n",
      "Empty DataFrame\n",
      "Columns: [Open, High, Low, Close, Adj Close, Volume]\n",
      "Index: []\n"
     ]
    },
    {
     "name": "stderr",
     "output_type": "stream",
     "text": [
      "[*********************100%%**********************]  1 of 1 completed\n",
      "[*********************100%%**********************]  1 of 1 completed"
     ]
    },
    {
     "name": "stdout",
     "output_type": "stream",
     "text": [
      "\n",
      "Stock: ADP\n",
      "                 Open       High        Low      Close  Adj Close   Volume\n",
      "Date                                                                      \n",
      "2009-08-13  33.792801  34.064968  33.362598  34.012291  23.778450  4455312\n",
      "2009-08-14  33.924496  34.012291  33.397717  33.784019  23.618856  5208419\n",
      "2009-08-17  33.520634  33.590870  33.011414  33.028973  23.090996  4075114\n",
      "2009-08-18  33.072872  33.292362  32.853378  33.011414  23.078722  5089735\n",
      "2009-08-19  32.809483  33.222126  32.669006  33.072872  23.121683  4345627\n"
     ]
    },
    {
     "name": "stderr",
     "output_type": "stream",
     "text": [
      "\n"
     ]
    },
    {
     "name": "stdout",
     "output_type": "stream",
     "text": [
      "\n",
      "Stock: ADPT\n",
      "                 Open       High        Low      Close  Adj Close    Volume\n",
      "Date                                                                       \n",
      "2019-06-27  39.009998  40.619999  36.209999  40.299999  40.299999  11245600\n",
      "2019-06-28  42.099998  48.825001  41.250000  48.299999  48.299999   5403800\n",
      "2019-07-01  51.000000  51.000000  39.580002  40.099998  40.099998   4300600\n",
      "2019-07-02  40.000000  40.400002  37.950001  38.889999  38.889999   1877700\n",
      "2019-07-03  39.549999  39.549999  38.599998  39.160000  39.160000   1010600\n"
     ]
    },
    {
     "name": "stderr",
     "output_type": "stream",
     "text": [
      "[*********************100%%**********************]  1 of 1 completed\n",
      "\n",
      "1 Failed download:\n",
      "['ADRA']: Exception('%ticker%: No timezone found, symbol may be delisted')\n"
     ]
    },
    {
     "name": "stdout",
     "output_type": "stream",
     "text": [
      "\n",
      "Stock: ADRA\n",
      "Empty DataFrame\n",
      "Columns: [Open, High, Low, Close, Adj Close, Volume]\n",
      "Index: []\n"
     ]
    },
    {
     "name": "stderr",
     "output_type": "stream",
     "text": [
      "[*********************100%%**********************]  1 of 1 completed\n"
     ]
    },
    {
     "name": "stdout",
     "output_type": "stream",
     "text": [
      "\n",
      "Stock: ADRD\n",
      "             Open     High      Low    Close  Adj Close  Volume\n",
      "Date                                                           \n",
      "2013-03-05  21.82  21.8599  21.7101  21.8438    21.8438    5550\n"
     ]
    },
    {
     "name": "stderr",
     "output_type": "stream",
     "text": [
      "[*********************100%%**********************]  1 of 1 completed\n"
     ]
    },
    {
     "name": "stdout",
     "output_type": "stream",
     "text": [
      "\n",
      "Stock: ADRE\n",
      "                 Open       High        Low      Close  Adj Close  Volume\n",
      "Date                                                                     \n",
      "2012-10-24  39.029999  39.200001  38.959999  38.959999  38.959999   17108\n",
      "2012-10-25  39.439999  39.500000  39.171700  39.290001  39.290001   12182\n",
      "2012-10-26  39.240002  39.340000  39.040001  39.160000  39.160000   62231\n",
      "2012-10-31  38.680000  39.345699  38.540001  38.840000  38.840000   47787\n",
      "2012-11-01  39.000000  39.450001  39.000000  39.389999  39.389999   23727\n"
     ]
    },
    {
     "name": "stderr",
     "output_type": "stream",
     "text": [
      "[*********************100%%**********************]  1 of 1 completed\n"
     ]
    },
    {
     "name": "stdout",
     "output_type": "stream",
     "text": [
      "\n",
      "Stock: ADRU\n",
      "                 Open       High        Low      Close  Adj Close  Volume\n",
      "Date                                                                     \n",
      "2012-01-13  18.360001  18.360001  18.360001  18.360001  18.360001    1000\n",
      "2012-01-17  18.809999  18.820000  18.733999  18.733999  18.733999   10900\n",
      "2012-01-18  18.860001  19.049900  18.860001  19.049900  19.049900    1765\n",
      "2012-01-19  19.139999  19.230000  19.120001  19.222000  19.222000     800\n",
      "2012-01-20  19.180000  19.204000  19.170000  19.200001  19.200001    1800\n"
     ]
    },
    {
     "name": "stderr",
     "output_type": "stream",
     "text": [
      "[*********************100%%**********************]  1 of 1 completed\n",
      "\n",
      "1 Failed download:\n",
      "['ADS']: Exception('%ticker%: No timezone found, symbol may be delisted')\n"
     ]
    },
    {
     "name": "stdout",
     "output_type": "stream",
     "text": [
      "\n",
      "Stock: ADS\n",
      "Empty DataFrame\n",
      "Columns: [Open, High, Low, Close, Adj Close, Volume]\n",
      "Index: []\n"
     ]
    },
    {
     "name": "stderr",
     "output_type": "stream",
     "text": [
      "[*********************100%%**********************]  1 of 1 completed\n"
     ]
    },
    {
     "name": "stdout",
     "output_type": "stream",
     "text": [
      "\n",
      "Stock: ADSK\n",
      "                 Open       High        Low      Close  Adj Close   Volume\n",
      "Date                                                                      \n",
      "2009-08-17  24.700001  24.959999  23.799999  23.840000  23.840000  5652500\n",
      "2009-08-18  24.100000  24.389999  23.959999  24.360001  24.360001  4797500\n",
      "2009-08-19  23.900000  24.270000  23.650000  24.170000  24.170000  4234500\n",
      "2009-08-20  24.280001  24.590000  24.170000  24.270000  24.270000  2784800\n",
      "2009-08-21  24.580000  24.910000  24.139999  24.510000  24.510000  3852400\n"
     ]
    },
    {
     "name": "stderr",
     "output_type": "stream",
     "text": [
      "[*********************100%%**********************]  1 of 1 completed\n"
     ]
    },
    {
     "name": "stdout",
     "output_type": "stream",
     "text": [
      "\n",
      "Stock: ADT\n",
      "             Open    High    Low  Close  Adj Close    Volume\n",
      "Date                                                        \n",
      "2018-01-19  12.65  12.970  12.00  12.39  10.121552  68187400\n",
      "2018-01-22  12.12  12.180  11.12  11.45   9.353656  26132900\n",
      "2018-01-23  11.47  12.120  11.45  11.91   9.729433   8272100\n",
      "2018-01-24  11.91  12.144  11.30  11.91   9.729433  10369000\n",
      "2018-01-25  11.91  11.940  11.60  11.90   9.721266   9448600\n"
     ]
    },
    {
     "name": "stderr",
     "output_type": "stream",
     "text": [
      "[*********************100%%**********************]  1 of 1 completed\n",
      "[*********************100%%**********************]  1 of 1 completed"
     ]
    },
    {
     "name": "stdout",
     "output_type": "stream",
     "text": [
      "\n",
      "Stock: ADTN\n",
      "                 Open       High        Low      Close  Adj Close   Volume\n",
      "Date                                                                      \n",
      "2009-11-18  23.650000  23.719999  23.230000  23.340000  17.704159   733800\n",
      "2009-11-19  23.160000  23.230000  22.610001  22.690001  17.211107  1678100\n",
      "2009-11-20  22.480000  22.480000  21.520000  21.790001  16.528433  2641400\n",
      "2009-11-23  22.090000  22.400000  21.540001  21.730000  16.482918  1317700\n",
      "2009-11-24  21.540001  21.750000  21.290001  21.750000  16.498087   741000\n"
     ]
    },
    {
     "name": "stderr",
     "output_type": "stream",
     "text": [
      "\n",
      "\n",
      "1 Failed download:\n",
      "['ADVS']: Exception('%ticker%: No price data found, symbol may be delisted (1d 2010-01-19 00:00:00+00:00 -> 2015-05-18 08:15:28+00:00)')\n"
     ]
    },
    {
     "name": "stdout",
     "output_type": "stream",
     "text": [
      "\n",
      "Stock: ADVS\n",
      "Empty DataFrame\n",
      "Columns: [Open, High, Low, Close, Adj Close, Volume]\n",
      "Index: []\n"
     ]
    },
    {
     "name": "stderr",
     "output_type": "stream",
     "text": [
      "[*********************100%%**********************]  1 of 1 completed\n"
     ]
    },
    {
     "name": "stdout",
     "output_type": "stream",
     "text": [
      "\n",
      "Stock: ADX\n",
      "             Open   High    Low  Close  Adj Close  Volume\n",
      "Date                                                     \n",
      "2009-11-13  10.07  10.16  10.03  10.16   4.025455  131200\n",
      "2009-11-16  10.18  10.29  10.17  10.27   4.069037  152500\n",
      "2009-11-17  10.26  10.30  10.19  10.28   4.073000   76800\n",
      "2009-11-18  10.11  10.12   9.91   9.99   4.077081  172900\n",
      "2009-11-19   9.89   9.91   9.78   9.85   4.019945  122100\n"
     ]
    },
    {
     "name": "stderr",
     "output_type": "stream",
     "text": [
      "[*********************100%%**********************]  1 of 1 completed\n",
      "[*********************100%%**********************]  1 of 1 completed"
     ]
    },
    {
     "name": "stdout",
     "output_type": "stream",
     "text": [
      "\n",
      "Stock: ADXS\n",
      "             Open     High      Low  Close  Adj Close   Volume\n",
      "Date                                                          \n",
      "2020-05-08  15.66  16.5000  14.6300  15.03      15.03  1728710\n",
      "2020-05-11  15.39  15.3997  15.0100  15.15      15.15   125498\n",
      "2020-05-12  15.18  15.3600  14.8300  15.00      15.00   194733\n",
      "2020-05-13  15.00  15.1500  14.8300  15.00      15.00   184381\n",
      "2020-05-14  15.00  15.2000  14.9009  15.00      15.00   125472\n"
     ]
    },
    {
     "name": "stderr",
     "output_type": "stream",
     "text": [
      "\n"
     ]
    },
    {
     "name": "stdout",
     "output_type": "stream",
     "text": [
      "\n",
      "Stock: ADZ\n",
      "            Open       High        Low      Close  Adj Close  Volume\n",
      "Date                                                                \n",
      "2012-02-09  22.9  24.190001  22.719999  24.040001  24.040001    1625\n"
     ]
    },
    {
     "name": "stderr",
     "output_type": "stream",
     "text": [
      "[*********************100%%**********************]  1 of 1 completed\n"
     ]
    },
    {
     "name": "stdout",
     "output_type": "stream",
     "text": [
      "\n",
      "Stock: AE\n",
      "                 Open       High        Low      Close  Adj Close  Volume\n",
      "Date                                                                     \n",
      "2010-06-08  17.000000  17.000000  16.400000  16.400000  11.721895    2300\n",
      "2010-06-09  16.889999  16.889999  16.500000  16.500000  11.793365     600\n",
      "2010-06-10  16.799999  16.799999  16.549999  16.549999  11.829104    8700\n",
      "2010-06-11  16.930000  16.969999  16.549999  16.600000  11.864844    1300\n",
      "2010-06-14  17.250000  17.250000  16.730000  17.090000  12.215072    2700\n"
     ]
    },
    {
     "name": "stderr",
     "output_type": "stream",
     "text": [
      "[*********************100%%**********************]  1 of 1 completed\n"
     ]
    },
    {
     "name": "stdout",
     "output_type": "stream",
     "text": [
      "\n",
      "Stock: AEB\n",
      "             Open   High        Low      Close  Adj Close  Volume\n",
      "Date                                                             \n",
      "2013-10-01  20.67  20.73  20.309999  20.370001  16.107943   31700\n"
     ]
    },
    {
     "name": "stderr",
     "output_type": "stream",
     "text": [
      "[*********************100%%**********************]  1 of 1 completed\n",
      "\n",
      "1 Failed download:\n",
      "['AEC']: Exception('%ticker%: No price data found, symbol may be delisted (1d 2014-02-04 00:00:00+00:00 -> 2015-06-08 17:16:46+00:00)')\n"
     ]
    },
    {
     "name": "stdout",
     "output_type": "stream",
     "text": [
      "\n",
      "Stock: AEC\n",
      "Empty DataFrame\n",
      "Columns: [Open, High, Low, Close, Adj Close, Volume]\n",
      "Index: []\n"
     ]
    },
    {
     "name": "stderr",
     "output_type": "stream",
     "text": [
      "[*********************100%%**********************]  1 of 1 completed\n"
     ]
    },
    {
     "name": "stdout",
     "output_type": "stream",
     "text": [
      "\n",
      "Stock: AEE\n",
      "                 Open       High        Low      Close  Adj Close   Volume\n",
      "Date                                                                      \n",
      "2010-02-18  25.469999  26.250000  25.469999  25.639999  15.108554  3138500\n",
      "2010-02-19  25.620001  26.059999  25.350000  25.650000  15.114440  2066000\n",
      "2010-02-22  25.799999  25.820000  25.360001  25.410000  14.973022  1396900\n",
      "2010-02-23  25.420000  25.469999  25.170000  25.290001  14.902312  1402600\n",
      "2010-02-24  25.340000  25.450001  24.889999  25.139999  14.813921  1640200\n"
     ]
    },
    {
     "name": "stderr",
     "output_type": "stream",
     "text": [
      "[*********************100%%**********************]  1 of 1 completed\n"
     ]
    },
    {
     "name": "stdout",
     "output_type": "stream",
     "text": [
      "\n",
      "Stock: AEG\n",
      "            Open  High   Low  Close  Adj Close  Volume\n",
      "Date                                                  \n",
      "2009-08-17  7.15  7.16  6.99   7.08   4.065757  991600\n",
      "2009-08-18  7.15  7.40  7.15   7.39   4.243776  693700\n",
      "2009-08-19  7.27  7.48  7.24   7.39   4.243776  831300\n",
      "2009-08-20  7.36  7.44  7.33   7.38   4.238035  630800\n",
      "2009-08-21  7.57  7.68  7.55   7.66   4.398826  945400\n"
     ]
    },
    {
     "name": "stderr",
     "output_type": "stream",
     "text": [
      "[*********************100%%**********************]  1 of 1 completed\n",
      "\n",
      "1 Failed download:\n",
      "['AEGN']: Exception('%ticker%: No timezone found, symbol may be delisted')\n"
     ]
    },
    {
     "name": "stdout",
     "output_type": "stream",
     "text": [
      "\n",
      "Stock: AEGN\n",
      "Empty DataFrame\n",
      "Columns: [Open, High, Low, Close, Adj Close, Volume]\n",
      "Index: []\n"
     ]
    },
    {
     "name": "stderr",
     "output_type": "stream",
     "text": [
      "[*********************100%%**********************]  1 of 1 completed\n",
      "\n",
      "1 Failed download:\n",
      "['AEGR']: Exception('%ticker%: No price data found, symbol may be delisted (1d 2011-03-28 00:00:00+00:00 -> 2016-11-17 21:19:41+00:00)')\n"
     ]
    },
    {
     "name": "stdout",
     "output_type": "stream",
     "text": [
      "\n",
      "Stock: AEGR\n",
      "Empty DataFrame\n",
      "Columns: [Open, High, Low, Close, Adj Close, Volume]\n",
      "Index: []\n"
     ]
    },
    {
     "name": "stderr",
     "output_type": "stream",
     "text": [
      "[*********************100%%**********************]  1 of 1 completed\n"
     ]
    },
    {
     "name": "stdout",
     "output_type": "stream",
     "text": [
      "\n",
      "Stock: AEHR\n",
      "            Open  High   Low  Close  Adj Close  Volume\n",
      "Date                                                  \n",
      "2017-01-05  2.35  2.63  2.24   2.30       2.30   64100\n",
      "2017-01-06  2.30  2.37  2.30   2.34       2.34   47800\n",
      "2017-01-09  2.32  2.45  2.32   2.37       2.37    7700\n",
      "2017-01-10  2.35  2.42  2.35   2.37       2.37   18000\n",
      "2017-01-11  2.37  2.47  2.37   2.46       2.46   16400\n"
     ]
    },
    {
     "name": "stderr",
     "output_type": "stream",
     "text": [
      "[*********************100%%**********************]  1 of 1 completed\n"
     ]
    },
    {
     "name": "stdout",
     "output_type": "stream",
     "text": [
      "\n",
      "Stock: AEIS\n",
      "             Open   High    Low  Close  Adj Close  Volume\n",
      "Date                                                     \n",
      "2009-10-21  13.55  14.15  13.36  13.60  13.412112  511600\n",
      "2009-10-22  13.55  13.83  13.24  13.66  13.471281  254500\n",
      "2009-10-23  13.56  13.85  13.17  13.23  13.047222  333800\n",
      "2009-10-26  13.27  13.61  12.73  12.93  12.751369  344700\n",
      "2009-10-27  12.98  13.16  12.52  12.77  12.593578  349700\n"
     ]
    },
    {
     "name": "stderr",
     "output_type": "stream",
     "text": [
      "[*********************100%%**********************]  1 of 1 completed\n"
     ]
    },
    {
     "name": "stdout",
     "output_type": "stream",
     "text": [
      "\n",
      "Stock: AEL\n",
      "            Open  High   Low  Close  Adj Close  Volume\n",
      "Date                                                  \n",
      "2009-08-10  7.80  7.98  7.62   7.96   6.900443  313400\n",
      "2009-08-11  7.86  7.98  7.31   7.87   6.822423  595800\n",
      "2009-08-12  7.92  8.18  7.89   8.05   6.978464  451700\n",
      "2009-08-13  8.15  8.18  7.98   8.15   7.065152  289900\n",
      "2009-08-14  8.14  8.14  7.80   8.10   7.021809  497700\n"
     ]
    },
    {
     "name": "stderr",
     "output_type": "stream",
     "text": [
      "[*********************100%%**********************]  1 of 1 completed\n"
     ]
    },
    {
     "name": "stdout",
     "output_type": "stream",
     "text": [
      "\n",
      "Stock: AEM\n",
      "                 Open       High        Low      Close  Adj Close   Volume\n",
      "Date                                                                      \n",
      "2009-07-27  57.779999  58.560001  56.889999  57.259998  45.441406  1498600\n",
      "2009-07-28  55.799999  55.950001  52.450001  53.820000  42.711422  3477100\n",
      "2009-07-29  53.299999  53.400002  52.169998  52.340000  41.536900  2607200\n",
      "2009-07-30  54.189999  56.349998  54.000000  55.950001  44.401798  3866000\n",
      "2009-07-31  55.990002  59.000000  55.740002  58.549999  46.465149  3199900\n"
     ]
    },
    {
     "name": "stderr",
     "output_type": "stream",
     "text": [
      "[*********************100%%**********************]  1 of 1 completed\n"
     ]
    },
    {
     "name": "stdout",
     "output_type": "stream",
     "text": [
      "\n",
      "Stock: AEO\n",
      "                 Open       High        Low      Close  Adj Close    Volume\n",
      "Date                                                                       \n",
      "2009-10-08  17.500000  18.379999  17.260000  18.139999  10.951394  14781100\n",
      "2009-10-09  18.049999  18.480000  17.879999  18.360001  11.084216   5947600\n",
      "2009-10-12  18.870001  18.950001  18.660000  18.790001  11.343811   6219100\n",
      "2009-10-13  18.750000  19.129999  18.610001  18.879999  11.398145   7472200\n",
      "2009-10-14  19.049999  19.330000  18.799999  19.219999  11.603406   5035200\n"
     ]
    },
    {
     "name": "stderr",
     "output_type": "stream",
     "text": [
      "[*********************100%%**********************]  1 of 1 completed\n",
      "\n",
      "1 Failed download:\n",
      "['AEPI']: Exception('%ticker%: No price data found, symbol may be delisted (1d 2009-10-09 00:00:00+00:00 -> 2017-06-14 19:48:04+00:00)')\n"
     ]
    },
    {
     "name": "stdout",
     "output_type": "stream",
     "text": [
      "\n",
      "Stock: AEPI\n",
      "Empty DataFrame\n",
      "Columns: [Open, High, Low, Close, Adj Close, Volume]\n",
      "Index: []\n"
     ]
    },
    {
     "name": "stderr",
     "output_type": "stream",
     "text": [
      "[*********************100%%**********************]  1 of 1 completed\n"
     ]
    },
    {
     "name": "stdout",
     "output_type": "stream",
     "text": [
      "\n",
      "Stock: AER\n",
      "            Open  High   Low  Close  Adj Close  Volume\n",
      "Date                                                  \n",
      "2009-08-13  9.12  9.31  9.03   9.06       9.06  104600\n",
      "2009-08-14  9.03  9.16  8.85   8.90       8.90  203700\n",
      "2009-08-17  8.58  8.70  8.22   8.26       8.26  225400\n",
      "2009-08-18  8.41  8.55  8.26   8.34       8.34  188000\n",
      "2009-08-19  8.31  8.69  8.17   8.48       8.48  148700\n"
     ]
    },
    {
     "name": "stderr",
     "output_type": "stream",
     "text": [
      "[*********************100%%**********************]  1 of 1 completed\n",
      "\n",
      "1 Failed download:\n",
      "['AERI']: Exception('%ticker%: No timezone found, symbol may be delisted')\n"
     ]
    },
    {
     "name": "stdout",
     "output_type": "stream",
     "text": [
      "\n",
      "Stock: AERI\n",
      "Empty DataFrame\n",
      "Columns: [Open, High, Low, Close, Adj Close, Volume]\n",
      "Index: []\n"
     ]
    },
    {
     "name": "stderr",
     "output_type": "stream",
     "text": [
      "[*********************100%%**********************]  1 of 1 completed\n"
     ]
    },
    {
     "name": "stdout",
     "output_type": "stream",
     "text": [
      "\n",
      "Stock: AES\n",
      "             Open   High    Low  Close  Adj Close    Volume\n",
      "Date                                                       \n",
      "2009-08-10  13.83  14.10  13.52  13.98   9.779337  11061600\n",
      "2009-08-11  13.84  13.91  13.41  13.43   9.394593   7822600\n",
      "2009-08-12  13.34  14.01  13.34  13.88   9.709383   6899900\n",
      "2009-08-13  13.98  14.05  13.67  13.92   9.737362   6979800\n",
      "2009-08-14  13.88  14.03  13.59  13.79   9.646423   4288700\n"
     ]
    },
    {
     "name": "stderr",
     "output_type": "stream",
     "text": [
      "[*********************100%%**********************]  1 of 1 completed\n"
     ]
    },
    {
     "name": "stdout",
     "output_type": "stream",
     "text": [
      "\n",
      "Stock: AET\n",
      "                 Open       High        Low      Close  Adj Close   Volume\n",
      "Date                                                                      \n",
      "2009-10-13  26.379999  26.480000  25.350000  25.540001  23.143713  9325151\n",
      "2009-10-14  25.920000  26.240000  25.650000  26.030001  23.587729  6824851\n",
      "2009-10-15  26.080000  26.080000  25.410000  25.719999  23.306820  7396678\n",
      "2009-10-16  25.700001  25.860001  25.190001  25.219999  22.853727  5803977\n",
      "2009-10-19  25.230000  25.570000  24.940001  25.250000  22.880917  6799656\n"
     ]
    },
    {
     "name": "stderr",
     "output_type": "stream",
     "text": [
      "[*********************100%%**********************]  1 of 1 completed\n",
      "\n",
      "1 Failed download:\n",
      "['AETI']: Exception('%ticker%: No timezone found, symbol may be delisted')\n"
     ]
    },
    {
     "name": "stdout",
     "output_type": "stream",
     "text": [
      "\n",
      "Stock: AETI\n",
      "Empty DataFrame\n",
      "Columns: [Open, High, Low, Close, Adj Close, Volume]\n",
      "Index: []\n"
     ]
    },
    {
     "name": "stderr",
     "output_type": "stream",
     "text": [
      "[*********************100%%**********************]  1 of 1 completed\n",
      "\n",
      "1 Failed download:\n",
      "['AEY']: Exception('%ticker%: No timezone found, symbol may be delisted')\n"
     ]
    },
    {
     "name": "stdout",
     "output_type": "stream",
     "text": [
      "\n",
      "Stock: AEY\n",
      "Empty DataFrame\n",
      "Columns: [Open, High, Low, Close, Adj Close, Volume]\n",
      "Index: []\n"
     ]
    },
    {
     "name": "stderr",
     "output_type": "stream",
     "text": [
      "[*********************100%%**********************]  1 of 1 completed\n"
     ]
    },
    {
     "name": "stdout",
     "output_type": "stream",
     "text": [
      "\n",
      "Stock: AEZS\n",
      "               Open     High      Low    Close  Adj Close  Volume\n",
      "Date                                                             \n",
      "2009-09-16  17400.0  21450.0  17100.0  20550.0    20550.0     470\n",
      "2009-09-17  19800.0  20850.0  18300.0  19200.0    19200.0      97\n",
      "2009-09-18  19500.0  19500.0  18150.0  18450.0    18450.0      33\n",
      "2009-09-21  20250.0  22200.0  19950.0  20700.0    20700.0     245\n",
      "2009-09-22  20550.0  21000.0  19200.0  20100.0    20100.0      70\n"
     ]
    },
    {
     "name": "stderr",
     "output_type": "stream",
     "text": [
      "[*********************100%%**********************]  1 of 1 completed\n",
      "\n",
      "1 Failed download:\n",
      "['AF']: Exception('%ticker%: No price data found, symbol may be delisted (1d 2009-08-10 00:00:00+00:00 -> 2017-09-26 21:52:00+00:00)')\n"
     ]
    },
    {
     "name": "stdout",
     "output_type": "stream",
     "text": [
      "\n",
      "Stock: AF\n",
      "Empty DataFrame\n",
      "Columns: [Open, High, Low, Close, Adj Close, Volume]\n",
      "Index: []\n"
     ]
    },
    {
     "name": "stderr",
     "output_type": "stream",
     "text": [
      "[*********************100%%**********************]  1 of 1 completed\n",
      "\n",
      "1 Failed download:\n",
      "['AFA']: Exception('%ticker%: No timezone found, symbol may be delisted')\n"
     ]
    },
    {
     "name": "stdout",
     "output_type": "stream",
     "text": [
      "\n",
      "Stock: AFA\n",
      "Empty DataFrame\n",
      "Columns: [Open, High, Low, Close, Adj Close, Volume]\n",
      "Index: []\n"
     ]
    },
    {
     "name": "stderr",
     "output_type": "stream",
     "text": [
      "[*********************100%%**********************]  1 of 1 completed\n"
     ]
    },
    {
     "name": "stdout",
     "output_type": "stream",
     "text": [
      "\n",
      "Stock: AFAM\n",
      "                 Open       High        Low      Close  Adj Close  Volume\n",
      "Date                                                                     \n",
      "2010-01-26  38.000000  38.049999  35.400002  36.990002  33.577641  424253\n",
      "2010-01-27  37.160000  38.049999  36.970001  37.799999  34.312912  121829\n",
      "2010-01-28  37.810001  37.849998  36.721001  37.169998  33.741032   79489\n",
      "2010-01-29  37.410000  37.869999  36.250000  36.360001  33.005756   82044\n",
      "2010-02-01  36.270000  36.270000  35.520000  36.029999  32.706196  141750\n"
     ]
    },
    {
     "name": "stderr",
     "output_type": "stream",
     "text": [
      "[*********************100%%**********************]  1 of 1 completed\n"
     ]
    },
    {
     "name": "stdout",
     "output_type": "stream",
     "text": [
      "\n",
      "Stock: AFB\n",
      "             Open   High    Low  Close  Adj Close  Volume\n",
      "Date                                                     \n",
      "2010-10-13  14.63  14.67  14.49  14.50   7.249268   78000\n",
      "2010-10-14  14.47  14.55  14.40  14.41   7.204272   61600\n",
      "2010-10-15  14.43  14.43  14.27  14.30   7.149281   85800\n",
      "2010-10-18  14.26  14.30  14.14  14.22   7.109282   99100\n",
      "2010-10-19  14.15  14.26  14.15  14.24   7.119278   47700\n"
     ]
    },
    {
     "name": "stderr",
     "output_type": "stream",
     "text": [
      "[*********************100%%**********************]  1 of 1 completed\n",
      "\n",
      "1 Failed download:\n",
      "['AFC']: Exception('%ticker%: No timezone found, symbol may be delisted')\n"
     ]
    },
    {
     "name": "stdout",
     "output_type": "stream",
     "text": [
      "\n",
      "Stock: AFC\n",
      "Empty DataFrame\n",
      "Columns: [Open, High, Low, Close, Adj Close, Volume]\n",
      "Index: []\n"
     ]
    },
    {
     "name": "stderr",
     "output_type": "stream",
     "text": [
      "[*********************100%%**********************]  1 of 1 completed\n"
     ]
    },
    {
     "name": "stdout",
     "output_type": "stream",
     "text": [
      "\n",
      "Stock: AFCB\n",
      "               Open     High      Low    Close  Adj Close  Volume\n",
      "Date                                                             \n",
      "2012-04-18  15.2000  15.5000  14.9000  14.9900  14.201537    9000\n",
      "2012-04-19  14.9500  15.0900  14.3100  14.3800  13.623622    5925\n",
      "2012-04-20  14.2500  14.3900  14.1500  14.3900  13.633098     758\n",
      "2012-04-23  14.5000  14.5001  14.5000  14.5001  13.737406    1600\n",
      "2012-04-24  14.5001  14.5001  14.5001  14.5001  13.737406       0\n"
     ]
    },
    {
     "name": "stderr",
     "output_type": "stream",
     "text": [
      "[*********************100%%**********************]  1 of 1 completed\n",
      "\n",
      "1 Failed download:\n",
      "['AFFX']: Exception('%ticker%: No price data found, symbol may be delisted (1d 2009-08-10 00:00:00+00:00 -> 2016-03-31 14:31:01+00:00)')\n"
     ]
    },
    {
     "name": "stdout",
     "output_type": "stream",
     "text": [
      "\n",
      "Stock: AFFX\n",
      "Empty DataFrame\n",
      "Columns: [Open, High, Low, Close, Adj Close, Volume]\n",
      "Index: []\n"
     ]
    },
    {
     "name": "stderr",
     "output_type": "stream",
     "text": [
      "[*********************100%%**********************]  1 of 1 completed\n"
     ]
    },
    {
     "name": "stdout",
     "output_type": "stream",
     "text": [
      "\n",
      "Stock: AFG\n",
      "                 Open       High    Low      Close  Adj Close  Volume\n",
      "Date                                                                 \n",
      "2009-08-10  25.059999  25.280001  24.59  24.820000  11.217077  544100\n",
      "2009-08-11  24.750000  24.830000  24.50  24.680000  11.153805  658300\n",
      "2009-08-12  24.680000  25.410000  24.68  25.120001  11.352659  441500\n",
      "2009-08-13  25.129999  25.480000  24.83  25.150000  11.366214  399700\n",
      "2009-08-14  24.990000  25.080000  24.60  24.770000  11.194479  343000\n"
     ]
    },
    {
     "name": "stderr",
     "output_type": "stream",
     "text": [
      "[*********************100%%**********************]  1 of 1 completed\n",
      "\n",
      "1 Failed download:\n",
      "['AFH']: Exception('%ticker%: No timezone found, symbol may be delisted')\n"
     ]
    },
    {
     "name": "stdout",
     "output_type": "stream",
     "text": [
      "\n",
      "Stock: AFH\n",
      "Empty DataFrame\n",
      "Columns: [Open, High, Low, Close, Adj Close, Volume]\n",
      "Index: []\n"
     ]
    },
    {
     "name": "stderr",
     "output_type": "stream",
     "text": [
      "[*********************100%%**********************]  1 of 1 completed\n"
     ]
    },
    {
     "name": "stdout",
     "output_type": "stream",
     "text": [
      "\n",
      "Stock: AFK\n",
      "                 Open       High        Low      Close  Adj Close  Volume\n",
      "Date                                                                     \n",
      "2009-09-08  28.500000  28.530001  27.709999  28.430000  18.419659    9000\n",
      "2009-09-09  28.209999  28.549999  28.080000  28.120001  18.218813   11700\n",
      "2009-09-10  28.120001  28.389999  28.059999  28.389999  18.393744    6200\n",
      "2009-09-11  28.520000  28.520000  28.250000  28.370001  18.380785    5600\n",
      "2009-09-14  28.080000  28.209999  28.000000  28.040001  18.166977    7000\n"
     ]
    },
    {
     "name": "stderr",
     "output_type": "stream",
     "text": [
      "[*********************100%%**********************]  1 of 1 completed\n"
     ]
    },
    {
     "name": "stdout",
     "output_type": "stream",
     "text": [
      "\n",
      "Stock: AFL\n",
      "                 Open       High        Low      Close  Adj Close    Volume\n",
      "Date                                                                       \n",
      "2009-08-17  20.570000  20.584999  19.805000  19.840000  13.877328   9113800\n",
      "2009-08-18  19.900000  20.309999  19.754999  20.219999  14.143123   5263800\n",
      "2009-08-19  19.955000  20.504999  19.705000  20.290001  14.192085   5665000\n",
      "2009-08-20  20.320000  20.865000  19.910000  20.065001  14.034708  11854800\n",
      "2009-08-21  20.280001  21.100000  20.150000  20.934999  14.643239  11727600\n"
     ]
    },
    {
     "name": "stderr",
     "output_type": "stream",
     "text": [
      "[*********************100%%**********************]  1 of 1 completed\n"
     ]
    },
    {
     "name": "stdout",
     "output_type": "stream",
     "text": [
      "\n",
      "Stock: AFMD\n",
      "                 Open       High        Low      Close  Adj Close  Volume\n",
      "Date                                                                     \n",
      "2014-09-12  69.500000  70.000000  56.299999  57.000000  57.000000  357620\n",
      "2014-09-15  60.000000  64.000000  58.500000  64.000000  64.000000   47890\n",
      "2014-09-16  64.000000  64.900002  59.099998  62.200001  62.200001   16330\n",
      "2014-09-17  61.700001  63.200001  60.200001  62.700001  62.700001   14530\n",
      "2014-09-18  61.200001  62.700001  60.000000  61.200001  61.200001   14870\n"
     ]
    },
    {
     "name": "stderr",
     "output_type": "stream",
     "text": [
      "[*********************100%%**********************]  1 of 1 completed\n",
      "\n",
      "1 Failed download:\n",
      "['AFOP']: Exception('%ticker%: No price data found, symbol may be delisted (1d 2010-10-04 00:00:00+00:00 -> 2016-04-20 10:59:34+00:00)')\n"
     ]
    },
    {
     "name": "stdout",
     "output_type": "stream",
     "text": [
      "\n",
      "Stock: AFOP\n",
      "Empty DataFrame\n",
      "Columns: [Open, High, Low, Close, Adj Close, Volume]\n",
      "Index: []\n"
     ]
    },
    {
     "name": "stderr",
     "output_type": "stream",
     "text": [
      "[*********************100%%**********************]  1 of 1 completed\n"
     ]
    },
    {
     "name": "stdout",
     "output_type": "stream",
     "text": [
      "\n",
      "Stock: AFSI\n",
      "                Open      High       Low     Close  Adj Close  Volume\n",
      "Date                                                                 \n",
      "2010-01-11  5.119834  5.144628  5.008264  5.041322   4.162799  250179\n",
      "2010-01-12  5.008264  5.041322  4.979338  5.020661   4.145738  283902\n",
      "2010-01-13  5.033057  5.082644  5.004132  5.066115   4.183270  223774\n",
      "2010-01-14  5.078512  5.123966  5.057851  5.099173   4.210568  235374\n",
      "2010-01-15  5.103305  5.115702  4.966942  5.086776   4.200331  421474\n"
     ]
    },
    {
     "name": "stderr",
     "output_type": "stream",
     "text": [
      "[*********************100%%**********************]  1 of 1 completed\n"
     ]
    },
    {
     "name": "stdout",
     "output_type": "stream",
     "text": [
      "\n",
      "Stock: AFT\n",
      "                 Open       High        Low      Close  Adj Close  Volume\n",
      "Date                                                                     \n",
      "2012-08-06  18.840000  18.889999  18.610001  18.610001   7.362775  118700\n",
      "2012-08-07  18.750000  18.910000  18.719999  18.740000   7.414206   95300\n",
      "2012-08-08  18.820000  18.879999  18.780001  18.809999   7.441896   61800\n",
      "2012-08-09  18.799999  18.889999  18.650000  18.680000   7.390466  122300\n",
      "2012-08-10  18.770000  18.889999  18.639999  18.730000   7.410244  112800\n"
     ]
    },
    {
     "name": "stderr",
     "output_type": "stream",
     "text": [
      "[*********************100%%**********************]  1 of 1 completed\n"
     ]
    },
    {
     "name": "stdout",
     "output_type": "stream",
     "text": [
      "\n",
      "Stock: AG\n",
      "            Open  High   Low  Close  Adj Close  Volume\n",
      "Date                                                  \n",
      "2009-08-07  2.28  2.28  2.23   2.23   2.211163   14200\n",
      "2009-08-10  2.19  2.19  2.12   2.12   2.102092   48600\n",
      "2009-08-11  2.12  2.23  2.00   2.12   2.102092   54200\n",
      "2009-08-12  2.07  2.10  2.00   2.07   2.052515   71800\n",
      "2009-08-13  2.10  2.20  2.05   2.16   2.141755  106300\n"
     ]
    },
    {
     "name": "stderr",
     "output_type": "stream",
     "text": [
      "[*********************100%%**********************]  1 of 1 completed\n"
     ]
    },
    {
     "name": "stdout",
     "output_type": "stream",
     "text": [
      "\n",
      "Stock: AGA\n",
      "                 Open       High        Low      Close  Adj Close  Volume\n",
      "Date                                                                     \n",
      "2009-10-26  37.150002  38.480000  37.150002  38.480000  38.480000     700\n",
      "2009-10-27  38.500000  40.060001  38.369999  39.750000  39.750000    1600\n",
      "2009-10-28  40.049999  40.500000  40.049999  40.500000  40.500000     800\n",
      "2009-10-29  39.720001  39.720001  38.419998  38.480000  38.480000    3500\n",
      "2009-10-30  39.000000  39.200001  39.000000  39.200001  39.200001     400\n"
     ]
    },
    {
     "name": "stderr",
     "output_type": "stream",
     "text": [
      "[*********************100%%**********************]  1 of 1 completed\n",
      "\n",
      "1 Failed download:\n",
      "['AGC']: Exception('%ticker%: No timezone found, symbol may be delisted')\n"
     ]
    },
    {
     "name": "stdout",
     "output_type": "stream",
     "text": [
      "\n",
      "Stock: AGC\n",
      "Empty DataFrame\n",
      "Columns: [Open, High, Low, Close, Adj Close, Volume]\n",
      "Index: []\n"
     ]
    },
    {
     "name": "stderr",
     "output_type": "stream",
     "text": [
      "[*********************100%%**********************]  1 of 1 completed\n"
     ]
    },
    {
     "name": "stdout",
     "output_type": "stream",
     "text": [
      "\n",
      "Stock: AGCO\n",
      "             Open       High        Low      Close  Adj Close   Volume\n",
      "Date                                                                  \n",
      "2009-08-10  33.34  33.419998  32.599998  32.860001  26.883659  1213100\n",
      "2009-08-11  32.84  32.840000  31.969999  32.040001  26.212793   873400\n",
      "2009-08-12  31.76  32.410000  31.650000  31.920000  26.114616  1676400\n",
      "2009-08-13  31.92  32.209999  31.000000  31.480000  25.754641  2075900\n",
      "2009-08-14  31.59  31.730000  30.170000  30.660000  25.083771  2152000\n"
     ]
    },
    {
     "name": "stderr",
     "output_type": "stream",
     "text": [
      "[*********************100%%**********************]  1 of 1 completed\n"
     ]
    },
    {
     "name": "stdout",
     "output_type": "stream",
     "text": [
      "\n",
      "Stock: AGD\n",
      "                 Open       High        Low      Close  Adj Close  Volume\n",
      "Date                                                                     \n",
      "2009-08-12  17.620001  18.000000  17.520000  18.000000   4.656601   39950\n",
      "2009-08-13  18.000000  18.420000  17.980000  18.299999   4.734210   35450\n",
      "2009-08-14  18.459999  18.500000  17.860001  18.299999   4.734210   55300\n",
      "2009-08-17  18.100000  18.120001  17.600000  17.760000   4.594514   71450\n",
      "2009-08-18  17.799999  18.660000  17.760000  18.660000   4.827343   59000\n"
     ]
    },
    {
     "name": "stderr",
     "output_type": "stream",
     "text": [
      "[*********************100%%**********************]  1 of 1 completed\n"
     ]
    },
    {
     "name": "stdout",
     "output_type": "stream",
     "text": [
      "\n",
      "Stock: AGEN\n",
      "                  Open        High         Low       Close   Adj Close  Volume\n",
      "Date                                                                          \n",
      "2009-08-07  260.255157  270.853790  255.544647  259.077515  259.077515   17184\n",
      "2009-08-10  264.965668  269.676147  254.367020  254.367020  254.367020   13673\n",
      "2009-08-11  256.722290  259.077515  235.525024  243.768402  243.768402   21264\n",
      "2009-08-12  256.722290  256.722290  244.946030  248.478897  248.478897   13499\n",
      "2009-08-13  246.123657  276.741913  241.413147  268.498535  268.498535   21617\n"
     ]
    },
    {
     "name": "stderr",
     "output_type": "stream",
     "text": [
      "[*********************100%%**********************]  1 of 1 completed\n"
     ]
    },
    {
     "name": "stdout",
     "output_type": "stream",
     "text": [
      "\n",
      "Stock: AGF\n",
      "                 Open       High        Low      Close  Adj Close  Volume\n",
      "Date                                                                     \n",
      "2012-02-09  18.549999  18.840000  18.549999  18.809999  18.809999    3200\n",
      "2012-02-10  18.520000  20.490000  18.520000  20.459999  20.459999  237076\n",
      "2012-02-13  19.620001  19.760000  19.150999  19.340000  19.340000    7770\n",
      "2012-02-14  19.049999  19.389999  19.049999  19.299999  19.299999   24570\n",
      "2012-02-15  19.170000  19.440001  19.111000  19.139999  19.139999   14366\n"
     ]
    },
    {
     "name": "stderr",
     "output_type": "stream",
     "text": [
      "[*********************100%%**********************]  1 of 1 completed\n",
      "[*********************100%%**********************]  1 of 1 completed"
     ]
    },
    {
     "name": "stdout",
     "output_type": "stream",
     "text": [
      "\n",
      "Stock: AGG\n",
      "                  Open        High         Low       Close  Adj Close  Volume\n",
      "Date                                                                         \n",
      "2009-12-16  104.510002  104.720001  104.500000  104.580002  71.534691  519000\n",
      "2009-12-17  104.800003  104.849998  104.620003  104.750000  71.650963  481700\n",
      "2009-12-18  104.820000  105.000000  104.739998  104.750000  71.650963  525900\n",
      "2009-12-21  104.669998  104.699997  104.290001  104.309998  71.350006  628500\n",
      "2009-12-22  104.129997  104.169998  103.879997  104.010002  71.144791  609400\n"
     ]
    },
    {
     "name": "stderr",
     "output_type": "stream",
     "text": [
      "\n",
      "\n",
      "1 Failed download:\n",
      "['AGII']: Exception('%ticker%: No price data found, symbol may be delisted (1d 2010-01-11 00:00:00+00:00 -> 2018-04-23 20:45:05+00:00)')\n"
     ]
    },
    {
     "name": "stdout",
     "output_type": "stream",
     "text": [
      "\n",
      "Stock: AGII\n",
      "Empty DataFrame\n",
      "Columns: [Open, High, Low, Close, Adj Close, Volume]\n",
      "Index: []\n"
     ]
    },
    {
     "name": "stderr",
     "output_type": "stream",
     "text": [
      "[*********************100%%**********************]  1 of 1 completed\n"
     ]
    },
    {
     "name": "stdout",
     "output_type": "stream",
     "text": [
      "\n",
      "Stock: AGIO\n",
      "                 Open       High        Low      Close  Adj Close   Volume\n",
      "Date                                                                      \n",
      "2013-07-24  29.000000  32.000000  27.160000  31.280001  31.280001  6203200\n",
      "2013-07-25  31.040001  31.469999  27.760000  27.780001  27.780001   592600\n",
      "2013-07-26  27.750000  29.450001  27.750000  28.530001  28.530001   313700\n",
      "2013-07-29  28.490000  30.790001  28.020000  28.639999  28.639999   149400\n",
      "2013-07-30  28.549999  29.860001  28.120001  29.100000  29.100000    77300\n"
     ]
    },
    {
     "name": "stderr",
     "output_type": "stream",
     "text": [
      "[*********************100%%**********************]  1 of 1 completed\n"
     ]
    },
    {
     "name": "stdout",
     "output_type": "stream",
     "text": [
      "\n",
      "Stock: AGM\n",
      "            Open  High   Low  Close  Adj Close  Volume\n",
      "Date                                                  \n",
      "2009-12-03  6.68  6.69  6.47   6.47   5.879851   93200\n",
      "2009-12-04  6.66  6.68  6.48   6.51   5.916202  113800\n",
      "2009-12-07  6.53  6.61  6.51   6.61   6.007081   69700\n",
      "2009-12-08  6.54  6.67  6.49   6.56   5.961642   66600\n",
      "2009-12-09  6.52  6.53  6.30   6.35   5.770796   89400\n"
     ]
    },
    {
     "name": "stderr",
     "output_type": "stream",
     "text": [
      "[*********************100%%**********************]  1 of 1 completed\n",
      "\n",
      "1 Failed download:\n",
      "['AGN']: Exception('%ticker%: No timezone found, symbol may be delisted')\n"
     ]
    },
    {
     "name": "stdout",
     "output_type": "stream",
     "text": [
      "\n",
      "Stock: AGN\n",
      "Empty DataFrame\n",
      "Columns: [Open, High, Low, Close, Adj Close, Volume]\n",
      "Index: []\n"
     ]
    },
    {
     "name": "stderr",
     "output_type": "stream",
     "text": [
      "[*********************100%%**********************]  1 of 1 completed\n"
     ]
    },
    {
     "name": "stdout",
     "output_type": "stream",
     "text": [
      "\n",
      "Stock: AGNC\n",
      "                 Open       High        Low      Close  Adj Close  Volume\n",
      "Date                                                                     \n",
      "2009-08-13  23.400000  23.400000  23.260000  23.379999   2.997136  544700\n",
      "2009-08-14  23.379999  23.400000  23.200001  23.400000   2.999700  375400\n",
      "2009-08-17  23.360001  23.370001  23.129999  23.299999   2.986881  428900\n",
      "2009-08-18  23.299999  23.400000  23.299999  23.370001   2.995853  448100\n",
      "2009-08-19  23.299999  23.450001  23.299999  23.340000   2.992007  437200\n"
     ]
    },
    {
     "name": "stderr",
     "output_type": "stream",
     "text": [
      "[*********************100%%**********************]  1 of 1 completed\n",
      "\n",
      "1 Failed download:\n",
      "['AGNCB']: Exception('%ticker%: No timezone found, symbol may be delisted')\n"
     ]
    },
    {
     "name": "stdout",
     "output_type": "stream",
     "text": [
      "\n",
      "Stock: AGNCB\n",
      "Empty DataFrame\n",
      "Columns: [Open, High, Low, Close, Adj Close, Volume]\n",
      "Index: []\n"
     ]
    },
    {
     "name": "stderr",
     "output_type": "stream",
     "text": [
      "[*********************100%%**********************]  1 of 1 completed\n"
     ]
    },
    {
     "name": "stdout",
     "output_type": "stream",
     "text": [
      "\n",
      "Stock: AGND\n",
      "                 Open       High        Low      Close  Adj Close  Volume\n",
      "Date                                                                     \n",
      "2016-11-23  43.632301  43.632301  43.632301  43.632301  43.632301       0\n"
     ]
    },
    {
     "name": "stderr",
     "output_type": "stream",
     "text": [
      "[*********************100%%**********************]  1 of 1 completed\n"
     ]
    },
    {
     "name": "stdout",
     "output_type": "stream",
     "text": [
      "\n",
      "Stock: AGO\n",
      "                 Open       High        Low      Close  Adj Close   Volume\n",
      "Date                                                                      \n",
      "2009-08-10  17.690001  17.780001  16.799999  16.940001  13.153567  1689600\n",
      "2009-08-11  16.690001  16.790001  15.960000  16.209999  12.586737  2081600\n",
      "2009-08-12  16.150000  16.990000  15.990000  16.750000  13.006040  2725500\n",
      "2009-08-13  17.680000  18.690001  17.230000  18.080000  14.038747  3566400\n",
      "2009-08-14  18.150000  18.150000  17.230000  17.520000  13.603932  1403400\n"
     ]
    },
    {
     "name": "stderr",
     "output_type": "stream",
     "text": [
      "[*********************100%%**********************]  1 of 1 completed\n",
      "\n",
      "1 Failed download:\n",
      "['AGOL']: Exception('%ticker%: No timezone found, symbol may be delisted')\n"
     ]
    },
    {
     "name": "stdout",
     "output_type": "stream",
     "text": [
      "\n",
      "Stock: AGOL\n",
      "Empty DataFrame\n",
      "Columns: [Open, High, Low, Close, Adj Close, Volume]\n",
      "Index: []\n"
     ]
    },
    {
     "name": "stderr",
     "output_type": "stream",
     "text": [
      "[*********************100%%**********************]  1 of 1 completed\n"
     ]
    },
    {
     "name": "stdout",
     "output_type": "stream",
     "text": [
      "\n",
      "Stock: AGQ\n",
      "                  Open        High         Low       Close   Adj Close  Volume\n",
      "Date                                                                          \n",
      "2009-10-28  109.419998  111.320000  105.839996  106.260002  106.260002  271950\n",
      "2009-10-29  110.580002  113.660004  110.260002  113.360001  113.360001  321900\n",
      "2009-10-30  111.199997  111.959999  106.199997  109.180000  109.180000  274200\n",
      "2009-11-02  110.480003  113.919998  108.639999  109.760002  109.760002  289200\n",
      "2009-11-03  108.059998  122.019997  107.980003  121.160004  121.160004  561350\n"
     ]
    },
    {
     "name": "stderr",
     "output_type": "stream",
     "text": [
      "[*********************100%%**********************]  1 of 1 completed\n"
     ]
    },
    {
     "name": "stdout",
     "output_type": "stream",
     "text": [
      "\n",
      "Stock: AGRO\n",
      "             Open   High    Low  Close  Adj Close   Volume\n",
      "Date                                                      \n",
      "2011-01-28  10.75  12.11  10.75  12.00  11.223004  8782300\n",
      "2011-01-31  12.60  12.65  11.95  12.60  11.784155  2398100\n",
      "2011-02-01  13.35  13.50  12.69  13.00  12.158255  2648800\n",
      "2011-02-02  13.01  13.24  12.78  12.85  12.017968   887400\n",
      "2011-02-03  12.78  13.68  12.65  12.97  12.130198   979000\n"
     ]
    },
    {
     "name": "stderr",
     "output_type": "stream",
     "text": [
      "[*********************100%%**********************]  1 of 1 completed\n"
     ]
    },
    {
     "name": "stdout",
     "output_type": "stream",
     "text": [
      "\n",
      "Stock: AGRX\n",
      "               Open     High      Low    Close  Adj Close  Volume\n",
      "Date                                                             \n",
      "2014-05-23  11000.0  12120.0  10100.0  11080.0    11080.0    1680\n",
      "2014-05-27  11020.0  11220.0  10840.0  11100.0    11100.0     145\n",
      "2014-05-28  11060.0  11860.0  11040.0  11600.0    11600.0     119\n",
      "2014-05-29  11800.0  12060.0  11500.0  11880.0    11880.0     106\n",
      "2014-05-30  11900.0  12000.0  11220.0  11700.0    11700.0      86\n"
     ]
    },
    {
     "name": "stderr",
     "output_type": "stream",
     "text": [
      "[*********************100%%**********************]  1 of 1 completed\n",
      "\n",
      "1 Failed download:\n",
      "['AGTC']: Exception('%ticker%: No timezone found, symbol may be delisted')\n"
     ]
    },
    {
     "name": "stdout",
     "output_type": "stream",
     "text": [
      "\n",
      "Stock: AGTC\n",
      "Empty DataFrame\n",
      "Columns: [Open, High, Low, Close, Adj Close, Volume]\n",
      "Index: []\n"
     ]
    },
    {
     "name": "stderr",
     "output_type": "stream",
     "text": [
      "[*********************100%%**********************]  1 of 1 completed\n",
      "\n",
      "1 Failed download:\n",
      "['AGU']: Exception('%ticker%: No price data found, symbol may be delisted (1d 2009-09-14 00:00:00+00:00 -> 2018-01-02 12:06:26+00:00)')\n"
     ]
    },
    {
     "name": "stdout",
     "output_type": "stream",
     "text": [
      "\n",
      "Stock: AGU\n",
      "Empty DataFrame\n",
      "Columns: [Open, High, Low, Close, Adj Close, Volume]\n",
      "Index: []\n"
     ]
    },
    {
     "name": "stderr",
     "output_type": "stream",
     "text": [
      "[*********************100%%**********************]  1 of 1 completed\n"
     ]
    },
    {
     "name": "stdout",
     "output_type": "stream",
     "text": [
      "\n",
      "Stock: AGX\n",
      "             Open   High    Low  Close  Adj Close  Volume\n",
      "Date                                                     \n",
      "2009-08-07  13.95  14.30  12.28  12.35   8.416047   63700\n",
      "2009-08-10  12.15  13.76  12.00  13.49   9.192915   55200\n",
      "2009-08-11  13.60  14.19  13.37  13.47   9.179287   18000\n",
      "2009-08-12  13.44  14.20  13.44  14.00   9.540457   13000\n",
      "2009-08-13  14.06  14.06  13.25  13.89   9.465499   38600\n"
     ]
    },
    {
     "name": "stderr",
     "output_type": "stream",
     "text": [
      "[*********************100%%**********************]  1 of 1 completed\n"
     ]
    },
    {
     "name": "stdout",
     "output_type": "stream",
     "text": [
      "\n",
      "Stock: AGYS\n",
      "            Open  High   Low  Close  Adj Close  Volume\n",
      "Date                                                  \n",
      "2009-11-04  5.20  6.63  5.20   6.35       6.35  287100\n",
      "2009-11-05  6.28  7.21  6.28   7.21       7.21  204400\n",
      "2009-11-06  7.05  7.13  6.85   7.00       7.00  107100\n",
      "2009-11-09  7.16  7.41  7.11   7.38       7.38  144200\n",
      "2009-11-10  7.49  7.49  6.95   7.16       7.16  118000\n"
     ]
    },
    {
     "name": "stderr",
     "output_type": "stream",
     "text": [
      "[*********************100%%**********************]  1 of 1 completed\n",
      "\n",
      "1 Failed download:\n",
      "['AHC']: Exception('%ticker%: No timezone found, symbol may be delisted')\n"
     ]
    },
    {
     "name": "stdout",
     "output_type": "stream",
     "text": [
      "\n",
      "Stock: AHC\n",
      "Empty DataFrame\n",
      "Columns: [Open, High, Low, Close, Adj Close, Volume]\n",
      "Index: []\n"
     ]
    },
    {
     "name": "stderr",
     "output_type": "stream",
     "text": [
      "[*********************100%%**********************]  1 of 1 completed\n"
     ]
    },
    {
     "name": "stdout",
     "output_type": "stream",
     "text": [
      "\n",
      "Stock: AHGP\n",
      "                 Open   High        Low      Close  Adj Close  Volume\n",
      "Date                                                                 \n",
      "2009-12-23  26.070000  27.00  26.000000  26.940001  14.142756  128926\n",
      "2009-12-24  27.650000  28.40  27.379999  28.400000  14.909214  116424\n",
      "2009-12-28  28.389999  28.49  28.150000  28.150000  14.777968   43433\n",
      "2009-12-29  28.150000  29.00  28.150000  28.750000  15.092958   65471\n",
      "2009-12-30  28.940001  29.09  27.900000  28.100000  14.751727   54171\n"
     ]
    },
    {
     "name": "stderr",
     "output_type": "stream",
     "text": [
      "[*********************100%%**********************]  1 of 1 completed\n"
     ]
    },
    {
     "name": "stdout",
     "output_type": "stream",
     "text": [
      "\n",
      "Stock: AHH\n",
      "             Open   High    Low  Close  Adj Close  Volume\n",
      "Date                                                     \n",
      "2013-06-03  11.68  11.68  11.30  11.52   6.076830  143200\n",
      "2013-06-04  11.56  11.63  11.46  11.51   6.071553  115000\n",
      "2013-06-05  11.58  11.59  11.25  11.55   6.092655   78100\n",
      "2013-06-06  11.51  11.70  11.50  11.62   6.129580  121700\n",
      "2013-06-07  11.67  11.68  11.52  11.60   6.119030   52300\n"
     ]
    },
    {
     "name": "stderr",
     "output_type": "stream",
     "text": [
      "[*********************100%%**********************]  1 of 1 completed\n",
      "[*********************100%%**********************]  1 of 1 completed"
     ]
    },
    {
     "name": "stdout",
     "output_type": "stream",
     "text": [
      "\n",
      "Stock: AHL\n",
      "                 Open       High        Low      Close  Adj Close  Volume\n",
      "Date                                                                     \n",
      "2012-06-18  28.330000  28.750000  28.280001  28.700001  25.374159  285159\n",
      "2012-06-19  28.709999  29.055000  28.639999  28.950001  25.595179  398291\n",
      "2012-06-20  28.900000  29.129999  28.809999  29.030001  25.665916  282122\n",
      "2012-06-21  29.000000  29.150000  28.510000  28.549999  25.241535  306174\n",
      "2012-06-22  28.620001  28.850000  28.430000  28.600000  25.285740  403191\n"
     ]
    },
    {
     "name": "stderr",
     "output_type": "stream",
     "text": [
      "\n",
      "\n",
      "1 Failed download:\n",
      "['AHP']: Exception('%ticker%: No price data found, symbol may be delisted (1d 2013-12-03 00:00:00+00:00 -> 2018-04-09 12:07:13+00:00)')\n"
     ]
    },
    {
     "name": "stdout",
     "output_type": "stream",
     "text": [
      "\n",
      "Stock: AHP\n",
      "Empty DataFrame\n",
      "Columns: [Open, High, Low, Close, Adj Close, Volume]\n",
      "Index: []\n"
     ]
    },
    {
     "name": "stderr",
     "output_type": "stream",
     "text": [
      "[*********************100%%**********************]  1 of 1 completed\n",
      "\n",
      "1 Failed download:\n",
      "['AHPI']: Exception('%ticker%: No timezone found, symbol may be delisted')\n"
     ]
    },
    {
     "name": "stdout",
     "output_type": "stream",
     "text": [
      "\n",
      "Stock: AHPI\n",
      "Empty DataFrame\n",
      "Columns: [Open, High, Low, Close, Adj Close, Volume]\n",
      "Index: []\n"
     ]
    },
    {
     "name": "stderr",
     "output_type": "stream",
     "text": [
      "[*********************100%%**********************]  1 of 1 completed\n"
     ]
    },
    {
     "name": "stdout",
     "output_type": "stream",
     "text": [
      "\n",
      "Stock: AHT\n",
      "                  Open        High         Low       Close   Adj Close  Volume\n",
      "Date                                                                          \n",
      "2010-01-05  303.723907  316.874847  298.714050  311.238739  175.352112   12883\n",
      "2010-01-06  311.864960  330.025787  307.481323  326.894623  184.172607   15844\n",
      "2010-01-07  325.642151  340.671783  322.510956  338.166840  190.523392   11414\n",
      "2010-01-08  338.793060  352.570251  335.661896  351.944000  198.285431   15774\n",
      "2010-01-11  355.701416  368.226105  353.196472  366.347412  206.400284   11285\n"
     ]
    },
    {
     "name": "stderr",
     "output_type": "stream",
     "text": [
      "[*********************100%%**********************]  1 of 1 completed\n",
      "\n",
      "1 Failed download:\n",
      "['AI']: Exception(\"%ticker%: Data doesn't exist for startDate = 1250035200, endDate = 1589205620\")\n"
     ]
    },
    {
     "name": "stdout",
     "output_type": "stream",
     "text": [
      "\n",
      "Stock: AI\n",
      "Empty DataFrame\n",
      "Columns: [Open, High, Low, Close, Adj Close, Volume]\n",
      "Index: []\n"
     ]
    },
    {
     "name": "stderr",
     "output_type": "stream",
     "text": [
      "[*********************100%%**********************]  1 of 1 completed\n"
     ]
    },
    {
     "name": "stdout",
     "output_type": "stream",
     "text": [
      "\n",
      "Stock: AIA\n",
      "                 Open       High        Low      Close  Adj Close  Volume\n",
      "Date                                                                     \n",
      "2011-04-29  49.160000  49.310001  49.049999  49.310001  37.117012  201000\n",
      "2011-05-02  49.919998  49.919998  49.549999  49.650002  37.372936   19000\n",
      "2011-05-03  49.180000  49.189999  48.660000  48.900002  36.808392   32000\n",
      "2011-05-04  48.560001  48.560001  47.900002  48.090000  36.198685   13000\n",
      "2011-05-05  48.070000  48.099998  47.650002  47.810001  35.987911  189600\n"
     ]
    },
    {
     "name": "stderr",
     "output_type": "stream",
     "text": [
      "[*********************100%%**********************]  1 of 1 completed\n",
      "\n",
      "1 Failed download:\n",
      "['AIB']: Exception(\"%ticker%: Data doesn't exist for startDate = 1249862400, endDate = 1387290393\")\n"
     ]
    },
    {
     "name": "stdout",
     "output_type": "stream",
     "text": [
      "\n",
      "Stock: AIB\n",
      "Empty DataFrame\n",
      "Columns: [Open, High, Low, Close, Adj Close, Volume]\n",
      "Index: []\n"
     ]
    },
    {
     "name": "stderr",
     "output_type": "stream",
     "text": [
      "[*********************100%%**********************]  1 of 1 completed\n"
     ]
    },
    {
     "name": "stdout",
     "output_type": "stream",
     "text": [
      "\n",
      "Stock: AIF\n",
      "             Open   High    Low  Close  Adj Close  Volume\n",
      "Date                                                     \n",
      "2017-12-12  15.71  15.75  15.64  15.71   8.907274   70100\n",
      "2017-12-13  15.70  15.73  15.64  15.67   8.884592   62000\n",
      "2017-12-14  15.65  15.71  15.62  15.64   8.867584   88700\n",
      "2017-12-15  15.65  15.69  15.62  15.69   8.895931   55600\n",
      "2017-12-18  15.66  15.70  15.60  15.65   8.873255  118200\n"
     ]
    },
    {
     "name": "stderr",
     "output_type": "stream",
     "text": [
      "[*********************100%%**********************]  1 of 1 completed\n"
     ]
    },
    {
     "name": "stdout",
     "output_type": "stream",
     "text": [
      "\n",
      "Stock: AIG\n",
      "                 Open       High        Low      Close  Adj Close    Volume\n",
      "Date                                                                       \n",
      "2011-01-12  60.169998  60.639999  58.200001  58.400002  38.112305   9796100\n",
      "2011-01-13  57.970001  59.849998  56.860001  57.189999  37.322643  12218900\n",
      "2011-01-14  56.900002  56.910000  53.049999  54.000000  35.240826  17189300\n",
      "2011-01-18  52.880001  53.820000  52.000000  53.169998  34.699169   8064900\n",
      "2011-01-19  52.919998  54.450001  51.000000  51.020000  33.296051  10518700\n"
     ]
    },
    {
     "name": "stderr",
     "output_type": "stream",
     "text": [
      "[*********************100%%**********************]  1 of 1 completed\n",
      "\n",
      "1 Failed download:\n",
      "['AIMC']: Exception('%ticker%: No timezone found, symbol may be delisted')\n"
     ]
    },
    {
     "name": "stdout",
     "output_type": "stream",
     "text": [
      "\n",
      "Stock: AIMC\n",
      "Empty DataFrame\n",
      "Columns: [Open, High, Low, Close, Adj Close, Volume]\n",
      "Index: []\n"
     ]
    },
    {
     "name": "stderr",
     "output_type": "stream",
     "text": [
      "[*********************100%%**********************]  1 of 1 completed\n"
     ]
    },
    {
     "name": "stdout",
     "output_type": "stream",
     "text": [
      "\n",
      "Stock: AIN\n",
      "                 Open       High        Low      Close  Adj Close  Volume\n",
      "Date                                                                     \n",
      "2010-05-20  21.500000  21.680000  19.680000  19.730000  15.857111  726400\n",
      "2010-05-21  19.410000  19.740000  18.469999  19.629999  15.776750  507800\n",
      "2010-05-24  19.540001  19.809999  19.100000  19.250000  15.471340  228700\n",
      "2010-05-25  18.430000  18.770000  18.020000  18.570000  14.924826  424800\n",
      "2010-05-26  18.730000  19.219999  18.459999  18.510000  14.876600  362100\n"
     ]
    },
    {
     "name": "stderr",
     "output_type": "stream",
     "text": [
      "[*********************100%%**********************]  1 of 1 completed\n"
     ]
    },
    {
     "name": "stdout",
     "output_type": "stream",
     "text": [
      "\n",
      "Stock: AINC\n",
      "                 Open        High        Low       Close   Adj Close  Volume\n",
      "Date                                                                        \n",
      "2014-11-17  65.010002   73.260002  64.110001   70.760002   70.760002   58500\n",
      "2014-11-18  72.680000   99.000000  72.449997   95.699997   95.699997  143200\n",
      "2014-11-19  94.010002  111.870003  92.570000   98.000000   98.000000  182000\n",
      "2014-11-20  97.820000   98.540001  88.000000   96.050003   96.050003  126300\n",
      "2014-11-21  93.550003  106.690002  92.848999  104.519997  104.519997   44100\n"
     ]
    },
    {
     "name": "stderr",
     "output_type": "stream",
     "text": [
      "[*********************100%%**********************]  1 of 1 completed\n",
      "\n",
      "1 Failed download:\n",
      "['AINV']: Exception('%ticker%: No timezone found, symbol may be delisted')\n"
     ]
    },
    {
     "name": "stdout",
     "output_type": "stream",
     "text": [
      "\n",
      "Stock: AINV\n",
      "Empty DataFrame\n",
      "Columns: [Open, High, Low, Close, Adj Close, Volume]\n",
      "Index: []\n"
     ]
    },
    {
     "name": "stderr",
     "output_type": "stream",
     "text": [
      "[*********************100%%**********************]  1 of 1 completed\n"
     ]
    },
    {
     "name": "stdout",
     "output_type": "stream",
     "text": [
      "\n",
      "Stock: AIQ\n",
      "             Open   High    Low   Close  Adj Close  Volume\n",
      "Date                                                      \n",
      "2018-05-16  15.04  15.06  15.01  15.036  14.659592    6200\n"
     ]
    },
    {
     "name": "stderr",
     "output_type": "stream",
     "text": [
      "[*********************100%%**********************]  1 of 1 completed\n"
     ]
    },
    {
     "name": "stdout",
     "output_type": "stream",
     "text": [
      "\n",
      "Stock: AIR\n",
      "                 Open       High        Low      Close  Adj Close  Volume\n",
      "Date                                                                     \n",
      "2009-09-08  17.100000  17.190001  16.799999  17.139999  15.490416  405000\n",
      "2009-09-09  17.100000  17.350000  16.990000  17.309999  15.644053  344700\n",
      "2009-09-10  17.240000  17.790001  16.959999  17.790001  16.077852  313200\n",
      "2009-09-11  17.719999  17.850000  17.540001  17.760000  16.050741  315300\n",
      "2009-09-14  17.670000  17.889999  17.620001  17.870001  16.150156  178000\n"
     ]
    },
    {
     "name": "stderr",
     "output_type": "stream",
     "text": [
      "[*********************100%%**********************]  1 of 1 completed\n",
      "\n",
      "1 Failed download:\n",
      "['AIRM']: Exception('%ticker%: No price data found, symbol may be delisted (1d 2010-03-11 00:00:00+00:00 -> 2017-03-14 15:45:04+00:00)')\n"
     ]
    },
    {
     "name": "stdout",
     "output_type": "stream",
     "text": [
      "\n",
      "Stock: AIRM\n",
      "Empty DataFrame\n",
      "Columns: [Open, High, Low, Close, Adj Close, Volume]\n",
      "Index: []\n"
     ]
    },
    {
     "name": "stderr",
     "output_type": "stream",
     "text": [
      "[*********************100%%**********************]  1 of 1 completed\n"
     ]
    },
    {
     "name": "stdout",
     "output_type": "stream",
     "text": [
      "\n",
      "Stock: AIRT\n",
      "                Open      High       Low     Close  Adj Close  Volume\n",
      "Date                                                                 \n",
      "2010-03-15  8.166667  8.326667  7.933333  8.313333   7.439818   40050\n",
      "2010-03-16  8.333333  8.333333  7.966667  8.280000   7.409988   34200\n",
      "2010-03-17  8.266667  8.300000  8.093333  8.140000   7.284699    9150\n",
      "2010-03-18  8.233333  8.273333  8.140000  8.266667   7.398056   13650\n",
      "2010-03-19  8.180000  8.273333  7.700000  7.813333   6.992355   17550\n"
     ]
    },
    {
     "name": "stderr",
     "output_type": "stream",
     "text": [
      "[*********************100%%**********************]  1 of 1 completed\n"
     ]
    },
    {
     "name": "stdout",
     "output_type": "stream",
     "text": [
      "\n",
      "Stock: AIT\n",
      "                 Open       High        Low      Close  Adj Close  Volume\n",
      "Date                                                                     \n",
      "2010-03-04  23.620001  23.620001  23.200001  23.360001  17.834560  118400\n",
      "2010-03-05  23.440001  23.980000  23.410000  23.959999  18.292637  193300\n",
      "2010-03-08  23.990000  24.100000  23.920000  24.059999  18.368980  112500\n",
      "2010-03-09  24.040001  24.250000  24.020000  24.230000  18.498775  182000\n",
      "2010-03-10  24.160000  24.469999  24.129999  24.440001  18.659105  141000\n"
     ]
    },
    {
     "name": "stderr",
     "output_type": "stream",
     "text": [
      "[*********************100%%**********************]  1 of 1 completed\n",
      "[*********************100%%**********************]  1 of 1 completed"
     ]
    },
    {
     "name": "stdout",
     "output_type": "stream",
     "text": [
      "\n",
      "Stock: AIV\n",
      "                Open      High       Low     Close  Adj Close    Volume\n",
      "Date                                                                   \n",
      "2009-10-21  1.966387  2.035711  1.941058  1.950390   1.035960  18350605\n",
      "2009-10-22  1.950390  1.985051  1.902397  1.981052   1.052246  15191157\n",
      "2009-10-23  1.966387  1.991717  1.914395  1.921061   1.020381  15796493\n",
      "2009-10-26  1.941058  1.974386  1.887732  1.891731   1.004803  17802278\n",
      "2009-10-27  1.899730  1.907729  1.830407  1.834406   0.974354  19267986\n"
     ]
    },
    {
     "name": "stderr",
     "output_type": "stream",
     "text": [
      "\n",
      "\n",
      "1 Failed download:\n",
      "['AIXG']: Exception('%ticker%: No price data found, symbol may be delisted (1d 2015-07-31 00:00:00+00:00 -> 2016-12-30 17:19:08+00:00)')\n"
     ]
    },
    {
     "name": "stdout",
     "output_type": "stream",
     "text": [
      "\n",
      "Stock: AIXG\n",
      "Empty DataFrame\n",
      "Columns: [Open, High, Low, Close, Adj Close, Volume]\n",
      "Index: []\n"
     ]
    },
    {
     "name": "stderr",
     "output_type": "stream",
     "text": [
      "[*********************100%%**********************]  1 of 1 completed\n"
     ]
    },
    {
     "name": "stdout",
     "output_type": "stream",
     "text": [
      "\n",
      "Stock: AIZ\n",
      "                 Open       High        Low      Close  Adj Close   Volume\n",
      "Date                                                                      \n",
      "2010-02-03  31.940001  32.049999  31.290001  31.660000  23.781178  1158300\n",
      "2010-02-04  31.780001  32.810001  31.540001  31.730000  23.833761  3295400\n",
      "2010-02-05  31.530001  31.620001  30.180000  30.920000  23.225334  2015500\n",
      "2010-02-08  31.059999  31.240000  30.160000  30.160000  22.654467  1155700\n",
      "2010-02-09  30.459999  30.790001  30.190001  30.370001  22.812210  1181000\n"
     ]
    },
    {
     "name": "stderr",
     "output_type": "stream",
     "text": [
      "[*********************100%%**********************]  1 of 1 completed\n"
     ]
    },
    {
     "name": "stdout",
     "output_type": "stream",
     "text": [
      "\n",
      "Stock: AJG\n",
      "                 Open       High        Low      Close  Adj Close  Volume\n",
      "Date                                                                     \n",
      "2009-12-09  22.280001  22.389999  22.100000  22.209999  14.908716  445500\n",
      "2009-12-10  22.280001  22.430000  22.120001  22.250000  14.935567  433800\n",
      "2009-12-11  22.219999  22.320000  22.110001  22.200001  14.902000  428500\n",
      "2009-12-14  22.230000  22.379999  22.120001  22.379999  15.022826  372200\n",
      "2009-12-15  22.379999  22.570000  22.230000  22.559999  15.143655  541400\n"
     ]
    },
    {
     "name": "stderr",
     "output_type": "stream",
     "text": [
      "[*********************100%%**********************]  1 of 1 completed\n"
     ]
    },
    {
     "name": "stdout",
     "output_type": "stream",
     "text": [
      "\n",
      "Stock: AKAM\n",
      "                 Open       High        Low      Close  Adj Close   Volume\n",
      "Date                                                                      \n",
      "2019-09-10  88.660004  88.660004  87.449997  88.279999  88.279999  1131200\n",
      "2019-09-11  88.349998  89.980003  88.070000  89.599998  89.599998  1232900\n",
      "2019-09-12  90.550003  92.099998  90.019997  90.989998  90.989998  3739200\n",
      "2019-09-13  91.680000  91.989998  88.699997  90.410004  90.410004  3115600\n",
      "2019-09-16  90.050003  90.199997  88.250000  89.430000  89.430000  3530300\n"
     ]
    },
    {
     "name": "stderr",
     "output_type": "stream",
     "text": [
      "[*********************100%%**********************]  1 of 1 completed\n",
      "\n",
      "1 Failed download:\n",
      "['AKAO']: Exception('%ticker%: No timezone found, symbol may be delisted')\n"
     ]
    },
    {
     "name": "stdout",
     "output_type": "stream",
     "text": [
      "\n",
      "Stock: AKAO\n",
      "Empty DataFrame\n",
      "Columns: [Open, High, Low, Close, Adj Close, Volume]\n",
      "Index: []\n"
     ]
    },
    {
     "name": "stderr",
     "output_type": "stream",
     "text": [
      "[*********************100%%**********************]  1 of 1 completed\n"
     ]
    },
    {
     "name": "stdout",
     "output_type": "stream",
     "text": [
      "\n",
      "Stock: AKBA\n",
      "            Open  High    Low  Close  Adj Close   Volume\n",
      "Date                                                    \n",
      "2018-12-21  5.97  5.97  5.380   5.42       5.42  2215000\n",
      "2018-12-24  5.29  5.59  5.200   5.49       5.49   928000\n",
      "2018-12-26  5.48  5.91  5.450   5.91       5.91   898400\n",
      "2018-12-27  5.82  5.91  5.290   5.53       5.53  1008500\n",
      "2018-12-28  5.54  5.54  5.279   5.39       5.39   920700\n"
     ]
    },
    {
     "name": "stderr",
     "output_type": "stream",
     "text": [
      "[*********************100%%**********************]  1 of 1 completed\n",
      "\n",
      "1 Failed download:\n",
      "['AKER']: Exception('%ticker%: No timezone found, symbol may be delisted')\n"
     ]
    },
    {
     "name": "stdout",
     "output_type": "stream",
     "text": [
      "\n",
      "Stock: AKER\n",
      "Empty DataFrame\n",
      "Columns: [Open, High, Low, Close, Adj Close, Volume]\n",
      "Index: []\n"
     ]
    },
    {
     "name": "stderr",
     "output_type": "stream",
     "text": [
      "[*********************100%%**********************]  1 of 1 completed\n",
      "\n",
      "1 Failed download:\n",
      "['AKG']: Exception('%ticker%: No timezone found, symbol may be delisted')\n"
     ]
    },
    {
     "name": "stdout",
     "output_type": "stream",
     "text": [
      "\n",
      "Stock: AKG\n",
      "Empty DataFrame\n",
      "Columns: [Open, High, Low, Close, Adj Close, Volume]\n",
      "Index: []\n"
     ]
    },
    {
     "name": "stderr",
     "output_type": "stream",
     "text": [
      "[*********************100%%**********************]  1 of 1 completed\n",
      "\n",
      "1 Failed download:\n",
      "['AKP']: Exception('%ticker%: No timezone found, symbol may be delisted')\n"
     ]
    },
    {
     "name": "stdout",
     "output_type": "stream",
     "text": [
      "\n",
      "Stock: AKP\n",
      "Empty DataFrame\n",
      "Columns: [Open, High, Low, Close, Adj Close, Volume]\n",
      "Index: []\n"
     ]
    },
    {
     "name": "stderr",
     "output_type": "stream",
     "text": [
      "[*********************100%%**********************]  1 of 1 completed\n"
     ]
    },
    {
     "name": "stdout",
     "output_type": "stream",
     "text": [
      "\n",
      "Stock: AKR\n",
      "                 Open       High        Low      Close  Adj Close  Volume\n",
      "Date                                                                     \n",
      "2010-08-10  18.309999  18.580000  18.139999  18.360001  11.002965  231100\n",
      "2010-08-11  18.000000  18.150000  17.709999  17.879999  10.715304  288400\n",
      "2010-08-12  17.610001  17.840000  17.570000  17.680000  10.595447  251300\n",
      "2010-08-13  17.590000  17.790001  17.490000  17.530001  10.505556  279200\n",
      "2010-08-16  17.379999  17.799999  17.340000  17.660000  10.583462  237000\n"
     ]
    },
    {
     "name": "stderr",
     "output_type": "stream",
     "text": [
      "[*********************100%%**********************]  1 of 1 completed\n",
      "\n",
      "1 Failed download:\n",
      "['AKRX']: Exception('%ticker%: No timezone found, symbol may be delisted')\n"
     ]
    },
    {
     "name": "stdout",
     "output_type": "stream",
     "text": [
      "\n",
      "Stock: AKRX\n",
      "Empty DataFrame\n",
      "Columns: [Open, High, Low, Close, Adj Close, Volume]\n",
      "Index: []\n"
     ]
    },
    {
     "name": "stderr",
     "output_type": "stream",
     "text": [
      "[*********************100%%**********************]  1 of 1 completed\n",
      "\n",
      "1 Failed download:\n",
      "['AKS']: Exception('%ticker%: No timezone found, symbol may be delisted')\n"
     ]
    },
    {
     "name": "stdout",
     "output_type": "stream",
     "text": [
      "\n",
      "Stock: AKS\n",
      "Empty DataFrame\n",
      "Columns: [Open, High, Low, Close, Adj Close, Volume]\n",
      "Index: []\n"
     ]
    },
    {
     "name": "stderr",
     "output_type": "stream",
     "text": [
      "[*********************100%%**********************]  1 of 1 completed\n"
     ]
    },
    {
     "name": "stdout",
     "output_type": "stream",
     "text": [
      "\n",
      "Stock: AL\n",
      "                 Open       High        Low      Close  Adj Close    Volume\n",
      "Date                                                                       \n",
      "2011-04-19  27.250000  28.400000  26.750000  27.950001  24.361662  20033300\n",
      "2011-04-20  28.059999  28.340000  27.879999  28.100000  24.492409   2633200\n",
      "2011-04-21  28.500000  29.049999  28.340000  29.049999  25.320435    969100\n",
      "2011-04-25  28.959999  29.049999  28.430000  28.799999  25.102530    324300\n",
      "2011-04-26  28.799999  28.920000  28.510000  28.799999  25.102530    347600\n"
     ]
    },
    {
     "name": "stderr",
     "output_type": "stream",
     "text": [
      "[*********************100%%**********************]  1 of 1 completed\n"
     ]
    },
    {
     "name": "stdout",
     "output_type": "stream",
     "text": [
      "\n",
      "Stock: ALB\n",
      "                 Open       High        Low      Close  Adj Close  Volume\n",
      "Date                                                                     \n",
      "2009-12-14  36.400002  36.720001  35.799999  36.639999  30.054598  362900\n",
      "2009-12-15  36.310001  36.900002  36.200001  36.439999  29.890530  401100\n",
      "2009-12-16  36.549999  36.980000  36.299999  36.330002  29.800322  512300\n",
      "2009-12-17  35.889999  36.160000  35.430000  35.500000  29.119486  644200\n",
      "2009-12-18  35.610001  35.919998  35.139999  35.639999  29.234322  773000\n"
     ]
    },
    {
     "name": "stderr",
     "output_type": "stream",
     "text": [
      "[*********************100%%**********************]  1 of 1 completed\n"
     ]
    },
    {
     "name": "stdout",
     "output_type": "stream",
     "text": [
      "\n",
      "Stock: ALCO\n",
      "                 Open       High        Low      Close  Adj Close  Volume\n",
      "Date                                                                     \n",
      "2010-01-20  25.809999  25.910000  25.500000  25.620001  21.173805   19700\n",
      "2010-01-21  25.540001  25.969999  25.010000  25.080000  20.727524   12800\n",
      "2010-01-22  25.070000  25.740000  25.070000  25.129999  20.768856   17000\n",
      "2010-01-25  25.370001  25.830000  24.809999  25.309999  20.917614    4800\n",
      "2010-01-26  25.200001  26.090000  25.200001  25.610001  21.165543   11100\n"
     ]
    },
    {
     "name": "stderr",
     "output_type": "stream",
     "text": [
      "[*********************100%%**********************]  1 of 1 completed\n"
     ]
    },
    {
     "name": "stdout",
     "output_type": "stream",
     "text": [
      "\n",
      "Stock: ALD\n",
      "                 Open       High        Low      Close  Adj Close   Volume\n",
      "Date                                                                      \n",
      "2011-03-17  50.040001  50.040001  49.950001  50.020000  50.020000  2838100\n",
      "2011-03-18  50.150002  50.180000  50.099998  50.150002  50.150002   110100\n",
      "2011-03-21  50.400002  50.410000  50.310001  50.410000  50.410000    52000\n",
      "2011-03-22  50.490002  50.549999  50.490002  50.549999  50.549999    68400\n",
      "2011-03-23  50.470001  50.599998  50.470001  50.580002  50.580002    51700\n"
     ]
    },
    {
     "name": "stderr",
     "output_type": "stream",
     "text": [
      "[*********************100%%**********************]  1 of 1 completed\n",
      "\n",
      "1 Failed download:\n",
      "['ALDR']: Exception('%ticker%: No timezone found, symbol may be delisted')\n"
     ]
    },
    {
     "name": "stdout",
     "output_type": "stream",
     "text": [
      "\n",
      "Stock: ALDR\n",
      "Empty DataFrame\n",
      "Columns: [Open, High, Low, Close, Adj Close, Volume]\n",
      "Index: []\n"
     ]
    },
    {
     "name": "stderr",
     "output_type": "stream",
     "text": [
      "[*********************100%%**********************]  1 of 1 completed\n",
      "\n",
      "1 Failed download:\n",
      "['ALDW']: Exception('%ticker%: No price data found, symbol may be delisted (1d 2012-11-09 00:00:00+00:00 -> 2017-11-08 22:20:02+00:00)')\n"
     ]
    },
    {
     "name": "stdout",
     "output_type": "stream",
     "text": [
      "\n",
      "Stock: ALDW\n",
      "Empty DataFrame\n",
      "Columns: [Open, High, Low, Close, Adj Close, Volume]\n",
      "Index: []\n"
     ]
    },
    {
     "name": "stderr",
     "output_type": "stream",
     "text": [
      "[*********************100%%**********************]  1 of 1 completed\n"
     ]
    },
    {
     "name": "stdout",
     "output_type": "stream",
     "text": [
      "\n",
      "Stock: ALDX\n",
      "            Open   High   Low  Close  Adj Close  Volume\n",
      "Date                                                   \n",
      "2019-06-04  6.82  7.090  6.73   7.06       7.06  256600\n",
      "2019-06-05  7.12  7.170  6.77   6.86       6.86  103900\n",
      "2019-06-06  6.91  6.960  6.57   6.71       6.71  185300\n",
      "2019-06-07  6.71  6.873  6.50   6.83       6.83  211400\n",
      "2019-06-10  6.84  6.990  6.83   6.88       6.88  134900\n"
     ]
    },
    {
     "name": "stderr",
     "output_type": "stream",
     "text": [
      "[*********************100%%**********************]  1 of 1 completed\n"
     ]
    },
    {
     "name": "stdout",
     "output_type": "stream",
     "text": [
      "\n",
      "Stock: ALE\n",
      "                 Open       High        Low      Close  Adj Close  Volume\n",
      "Date                                                                     \n",
      "2009-08-10  33.730000  34.220001  33.459999  34.169998  18.911766  304800\n",
      "2009-08-11  33.959999  34.369999  33.779999  34.240002  18.950516  350700\n",
      "2009-08-12  34.150002  34.150002  33.610001  33.750000  18.922478  327300\n",
      "2009-08-13  33.810001  34.009998  33.459999  33.869999  18.989758  239900\n",
      "2009-08-14  33.959999  33.980000  33.270000  33.560001  18.815956  101400\n"
     ]
    },
    {
     "name": "stderr",
     "output_type": "stream",
     "text": [
      "[*********************100%%**********************]  1 of 1 completed\n"
     ]
    },
    {
     "name": "stdout",
     "output_type": "stream",
     "text": [
      "\n",
      "Stock: ALEX\n",
      "             Open       High    Low  Close  Adj Close  Volume\n",
      "Date                                                         \n",
      "2012-06-14  26.18  26.290001  26.18  26.23  13.507392    1600\n",
      "2012-06-15  24.82  25.570000  24.50  25.57  13.167520    2800\n",
      "2012-06-18  25.57  25.570000  25.57  25.57  13.167520       0\n",
      "2012-06-19  25.57  25.570000  25.57  25.57  13.167520       0\n",
      "2012-06-20  25.57  25.570000  25.57  25.57  13.167520       0\n"
     ]
    },
    {
     "name": "stderr",
     "output_type": "stream",
     "text": [
      "[*********************100%%**********************]  1 of 1 completed\n"
     ]
    },
    {
     "name": "stdout",
     "output_type": "stream",
     "text": [
      "\n",
      "Stock: ALFA\n",
      "               Open       High        Low      Close  Adj Close  Volume\n",
      "Date                                                                   \n",
      "2012-05-31  25.0196  25.019600  24.690001  24.900000  24.900000    5860\n",
      "2012-06-01  24.9000  24.900000  24.309900  24.309900  24.309900     400\n",
      "2012-06-04  24.0700  24.129999  23.900000  24.049999  24.049999    5215\n",
      "2012-06-05  24.1700  24.360001  24.170000  24.359900  24.359900    1350\n",
      "2012-06-06  24.8500  24.870001  24.700001  24.820000  24.820000    1545\n"
     ]
    },
    {
     "name": "stderr",
     "output_type": "stream",
     "text": [
      "[*********************100%%**********************]  1 of 1 completed\n"
     ]
    },
    {
     "name": "stdout",
     "output_type": "stream",
     "text": [
      "\n",
      "Stock: ALG\n",
      "                 Open       High        Low      Close  Adj Close  Volume\n",
      "Date                                                                     \n",
      "2010-01-11  17.240000  17.570000  17.049999  17.440001  15.946747   26400\n",
      "2010-01-12  17.330000  17.820000  17.250000  17.299999  15.818734   17100\n",
      "2010-01-13  17.410000  17.559999  17.129999  17.490000  15.992472   26200\n",
      "2010-01-14  17.469999  17.740000  17.299999  17.650000  16.194315   32100\n",
      "2010-01-15  17.740000  17.920000  17.400000  17.750000  16.286079   28600\n"
     ]
    },
    {
     "name": "stderr",
     "output_type": "stream",
     "text": [
      "[*********************100%%**********************]  1 of 1 completed\n"
     ]
    },
    {
     "name": "stdout",
     "output_type": "stream",
     "text": [
      "\n",
      "Stock: ALGN\n",
      "             Open   High        Low      Close  Adj Close   Volume\n",
      "Date                                                              \n",
      "2010-01-28  18.74  19.25  17.990000  18.030001  18.030001  2492500\n",
      "2010-01-29  18.18  19.09  18.139999  18.750000  18.750000  1092700\n",
      "2010-02-01  18.73  18.75  18.500000  18.580000  18.580000   594300\n",
      "2010-02-02  18.00  18.52  17.969999  18.120001  18.120001  1289100\n",
      "2010-02-03  18.10  18.48  17.830000  18.110001  18.110001   553300\n"
     ]
    },
    {
     "name": "stderr",
     "output_type": "stream",
     "text": [
      "[*********************100%%**********************]  1 of 1 completed\n"
     ]
    },
    {
     "name": "stdout",
     "output_type": "stream",
     "text": [
      "\n",
      "Stock: ALGT\n",
      "                 Open       High        Low      Close  Adj Close  Volume\n",
      "Date                                                                     \n",
      "2009-09-14  42.009998  42.730000  41.380001  41.380001  33.870201  232600\n",
      "2009-09-15  41.189999  42.830002  40.570000  42.730000  34.975201  213600\n",
      "2009-09-16  42.730000  44.250000  42.389999  44.180000  36.162060  343300\n",
      "2009-09-17  44.220001  44.290001  43.189999  43.290001  35.433563  240700\n",
      "2009-09-18  43.419998  43.529999  42.070000  42.669998  34.926079  350800\n"
     ]
    },
    {
     "name": "stderr",
     "output_type": "stream",
     "text": [
      "[*********************100%%**********************]  1 of 1 completed\n"
     ]
    },
    {
     "name": "stdout",
     "output_type": "stream",
     "text": [
      "\n",
      "Stock: ALIM\n",
      "             Open   High    Low  Close  Adj Close  Volume\n",
      "Date                                                     \n",
      "2019-11-04  4.500  4.575  4.125  4.155      4.155   34573\n",
      "2019-11-05  4.200  4.500  4.200  4.380      4.380   19360\n",
      "2019-11-06  4.395  4.500  4.230  4.350      4.350   21500\n",
      "2019-11-07  4.500  4.515  4.065  4.125      4.125   12347\n",
      "2019-11-08  3.900  4.050  3.420  3.600      3.600   62853\n"
     ]
    },
    {
     "name": "stderr",
     "output_type": "stream",
     "text": [
      "[*********************100%%**********************]  1 of 1 completed\n",
      "\n",
      "1 Failed download:\n",
      "['ALJ']: Exception('%ticker%: No price data found, symbol may be delisted (1d 2009-08-09 00:00:00+00:00 -> 2017-06-29 14:12:07+00:00)')\n"
     ]
    },
    {
     "name": "stdout",
     "output_type": "stream",
     "text": [
      "\n",
      "Stock: ALJ\n",
      "Empty DataFrame\n",
      "Columns: [Open, High, Low, Close, Adj Close, Volume]\n",
      "Index: []\n"
     ]
    },
    {
     "name": "stderr",
     "output_type": "stream",
     "text": [
      "[*********************100%%**********************]  1 of 1 completed\n"
     ]
    },
    {
     "name": "stdout",
     "output_type": "stream",
     "text": [
      "\n",
      "Stock: ALK\n",
      "              Open    High     Low   Close  Adj Close   Volume\n",
      "Date                                                          \n",
      "2009-08-10  5.7475  5.7950  5.6125  5.6900   5.116798  1099200\n",
      "2009-08-11  5.6525  5.7350  5.5375  5.6350   5.067337  1097200\n",
      "2009-08-12  5.6625  5.9850  5.6400  5.8575   5.267421  1844400\n",
      "2009-08-13  5.8575  5.9200  5.6750  5.7800   5.197731  1352400\n",
      "2009-08-14  5.7675  5.7725  5.5725  5.7550   5.175249  1386000\n"
     ]
    },
    {
     "name": "stderr",
     "output_type": "stream",
     "text": [
      "[*********************100%%**********************]  1 of 1 completed\n"
     ]
    },
    {
     "name": "stdout",
     "output_type": "stream",
     "text": [
      "\n",
      "Stock: ALKS\n",
      "            Open  High   Low  Close  Adj Close   Volume\n",
      "Date                                                   \n",
      "2009-11-18  9.33  9.37  8.98   9.21       9.21   913200\n",
      "2009-11-19  9.18  9.19  8.73   8.91       8.91   999300\n",
      "2009-11-20  8.89  8.99  8.63   8.66       8.66   514200\n",
      "2009-11-23  8.78  8.90  8.63   8.65       8.65  1023200\n",
      "2009-11-24  8.64  8.69  8.54   8.63       8.63   826000\n"
     ]
    },
    {
     "name": "stderr",
     "output_type": "stream",
     "text": [
      "[*********************100%%**********************]  1 of 1 completed\n",
      "[*********************100%%**********************]  1 of 1 completed"
     ]
    },
    {
     "name": "stdout",
     "output_type": "stream",
     "text": [
      "\n",
      "Stock: ALL\n",
      "                 Open       High        Low      Close  Adj Close   Volume\n",
      "Date                                                                      \n",
      "2009-08-10  27.660000  27.799999  26.879999  27.260000  19.405558  3156300\n",
      "2009-08-11  27.180000  27.320000  26.660000  26.740000  19.035379  4775300\n",
      "2009-08-12  27.520000  28.830000  27.320000  28.420000  20.231325  7683800\n",
      "2009-08-13  28.750000  29.200001  28.200001  28.930000  20.594374  5846200\n",
      "2009-08-14  28.860001  28.959999  28.200001  28.549999  20.323872  3702800\n"
     ]
    },
    {
     "name": "stderr",
     "output_type": "stream",
     "text": [
      "\n",
      "\n",
      "1 Failed download:\n",
      "['ALLB']: Exception('%ticker%: No price data found, symbol may be delisted (1d 2011-12-14 21:39:49+00:00 -> 2015-03-03 14:52:20+00:00)')\n"
     ]
    },
    {
     "name": "stdout",
     "output_type": "stream",
     "text": [
      "\n",
      "Stock: ALLB\n",
      "Empty DataFrame\n",
      "Columns: [Open, High, Low, Close, Adj Close, Volume]\n",
      "Index: []\n"
     ]
    },
    {
     "name": "stderr",
     "output_type": "stream",
     "text": [
      "[*********************100%%**********************]  1 of 1 completed\n"
     ]
    },
    {
     "name": "stdout",
     "output_type": "stream",
     "text": [
      "\n",
      "Stock: ALLE\n",
      "                 Open       High        Low      Close  Adj Close   Volume\n",
      "Date                                                                      \n",
      "2013-12-02  43.080002  43.669998  41.520000  43.139999  38.916283  5130700\n",
      "2013-12-03  42.799999  44.849998  42.700001  42.900002  38.699776  3239300\n",
      "2013-12-04  42.430000  42.610001  41.650002  41.830002  37.734543  2777700\n",
      "2013-12-05  42.279999  42.279999  40.630001  41.049999  37.030910  3380500\n",
      "2013-12-06  40.750000  41.060001  40.639999  40.700001  36.715176  4662300\n"
     ]
    },
    {
     "name": "stderr",
     "output_type": "stream",
     "text": [
      "[*********************100%%**********************]  1 of 1 completed\n"
     ]
    },
    {
     "name": "stdout",
     "output_type": "stream",
     "text": [
      "\n",
      "Stock: ALLT\n",
      "            Open  High   Low  Close  Adj Close  Volume\n",
      "Date                                                  \n",
      "2009-11-11  3.91  4.30  3.91   4.24       4.24   37600\n",
      "2009-11-12  4.23  4.26  4.23   4.23       4.23   22600\n",
      "2009-11-13  4.19  4.29  4.00   4.13       4.13   20500\n",
      "2009-11-16  4.20  4.26  3.95   4.05       4.05   34400\n",
      "2009-11-17  4.14  4.14  3.92   4.02       4.02    5100\n"
     ]
    },
    {
     "name": "stderr",
     "output_type": "stream",
     "text": [
      "[*********************100%%**********************]  1 of 1 completed\n"
     ]
    },
    {
     "name": "stdout",
     "output_type": "stream",
     "text": [
      "\n",
      "Stock: ALLY\n",
      "                 Open       High        Low      Close  Adj Close  Volume\n",
      "Date                                                                     \n",
      "2014-01-28  25.806452  25.967743  25.806452  25.967743  20.958986  527000\n",
      "2014-01-29  25.967743  25.967743  25.967743  25.967743  20.958986       0\n",
      "2014-01-30  25.725805  25.725805  25.645161  25.645161  20.698624  248000\n",
      "2014-01-31  25.645161  25.645161  25.645161  25.645161  20.698624       0\n",
      "2014-02-03  25.645161  25.645161  25.645161  25.645161  20.698624       0\n"
     ]
    },
    {
     "name": "stderr",
     "output_type": "stream",
     "text": [
      "[*********************100%%**********************]  1 of 1 completed\n"
     ]
    },
    {
     "name": "stdout",
     "output_type": "stream",
     "text": [
      "\n",
      "Stock: ALNY\n",
      "                 Open       High        Low      Close  Adj Close   Volume\n",
      "Date                                                                      \n",
      "2019-01-11  88.360001  90.699997  86.860001  89.120003  89.120003   552400\n",
      "2019-01-14  87.940002  87.940002  83.959999  84.019997  84.019997   736200\n",
      "2019-01-15  78.250000  82.489998  78.120003  80.449997  80.449997  3311500\n",
      "2019-01-16  80.540001  84.660004  80.519997  80.879997  80.879997   935400\n",
      "2019-01-17  80.330002  82.050003  79.750000  80.680000  80.680000   680100\n"
     ]
    },
    {
     "name": "stderr",
     "output_type": "stream",
     "text": [
      "[*********************100%%**********************]  1 of 1 completed\n"
     ]
    },
    {
     "name": "stdout",
     "output_type": "stream",
     "text": [
      "\n",
      "Stock: ALOG\n",
      "                 Open       High        Low      Close  Adj Close  Volume\n",
      "Date                                                                     \n",
      "2009-12-09  36.880001  37.669998  36.709999  37.259998  35.349064   60431\n",
      "2009-12-10  35.740002  36.660000  34.919998  35.650002  33.821632  551758\n",
      "2009-12-11  35.889999  36.570000  35.419998  36.139999  34.286507   81781\n",
      "2009-12-14  36.209999  36.438999  35.660000  36.099998  34.343590   92527\n",
      "2009-12-15  36.220001  36.415001  35.860001  36.000000  34.248463   49882\n"
     ]
    },
    {
     "name": "stderr",
     "output_type": "stream",
     "text": [
      "[*********************100%%**********************]  1 of 1 completed\n"
     ]
    },
    {
     "name": "stdout",
     "output_type": "stream",
     "text": [
      "\n",
      "Stock: ALOT\n",
      "            Open  High   Low  Close  Adj Close  Volume\n",
      "Date                                                  \n",
      "2011-03-15  7.55  7.75  7.25   7.56   6.039499    4300\n",
      "2011-03-16  7.68  7.74  6.62   7.64   6.160452    1400\n",
      "2011-03-17  7.50  7.69  7.50   7.57   6.104009    1700\n",
      "2011-03-18  7.56  7.69  7.50   7.69   6.200769    5200\n",
      "2011-03-21  7.63  7.63  7.50   7.59   6.120135     900\n"
     ]
    },
    {
     "name": "stderr",
     "output_type": "stream",
     "text": [
      "[*********************100%%**********************]  1 of 1 completed\n",
      "\n",
      "1 Failed download:\n",
      "['ALQA']: Exception('%ticker%: No timezone found, symbol may be delisted')\n"
     ]
    },
    {
     "name": "stdout",
     "output_type": "stream",
     "text": [
      "\n",
      "Stock: ALQA\n",
      "Empty DataFrame\n",
      "Columns: [Open, High, Low, Close, Adj Close, Volume]\n",
      "Index: []\n"
     ]
    },
    {
     "name": "stderr",
     "output_type": "stream",
     "text": [
      "[*********************100%%**********************]  1 of 1 completed\n",
      "\n",
      "1 Failed download:\n",
      "['ALR']: Exception('%ticker%: No timezone found, symbol may be delisted')\n"
     ]
    },
    {
     "name": "stdout",
     "output_type": "stream",
     "text": [
      "\n",
      "Stock: ALR\n",
      "Empty DataFrame\n",
      "Columns: [Open, High, Low, Close, Adj Close, Volume]\n",
      "Index: []\n"
     ]
    },
    {
     "name": "stderr",
     "output_type": "stream",
     "text": [
      "[*********************100%%**********************]  1 of 1 completed\n",
      "\n",
      "1 Failed download:\n",
      "['ALSK']: Exception('%ticker%: No timezone found, symbol may be delisted')\n"
     ]
    },
    {
     "name": "stdout",
     "output_type": "stream",
     "text": [
      "\n",
      "Stock: ALSK\n",
      "Empty DataFrame\n",
      "Columns: [Open, High, Low, Close, Adj Close, Volume]\n",
      "Index: []\n"
     ]
    },
    {
     "name": "stderr",
     "output_type": "stream",
     "text": [
      "[*********************100%%**********************]  1 of 1 completed\n"
     ]
    },
    {
     "name": "stdout",
     "output_type": "stream",
     "text": [
      "\n",
      "Stock: ALSN\n",
      "                 Open       High        Low      Close  Adj Close    Volume\n",
      "Date                                                                       \n",
      "2012-03-15  23.000000  23.500000  22.700001  23.400000  18.998026  13911300\n",
      "2012-03-16  23.650000  24.930000  23.549999  24.549999  19.931684   2063000\n",
      "2012-03-19  24.500000  25.000000  24.059999  24.850000  20.175253    974300\n",
      "2012-03-20  24.709999  25.200001  24.250000  24.799999  20.134659    444400\n",
      "2012-03-21  24.650000  25.180000  24.129999  24.250000  19.688116    782300\n"
     ]
    },
    {
     "name": "stderr",
     "output_type": "stream",
     "text": [
      "[*********************100%%**********************]  1 of 1 completed\n",
      "[*********************100%%**********************]  1 of 1 completed\n",
      "\n",
      "1 Failed download:\n"
     ]
    },
    {
     "name": "stdout",
     "output_type": "stream",
     "text": [
      "\n",
      "Stock: ALTR\n",
      "                 Open       High        Low      Close  Adj Close   Volume\n",
      "Date                                                                      \n",
      "2017-11-01  17.100000  18.980000  16.549999  18.309999  18.309999  7533500\n",
      "2017-11-02  18.049999  18.200001  17.330000  17.410000  17.410000   952100\n",
      "2017-11-03  17.500000  19.400000  17.500000  19.370001  19.370001   842700\n",
      "2017-11-06  19.059999  19.600000  18.101000  18.969999  18.969999   427400\n",
      "2017-11-07  18.990000  19.945000  18.850000  19.510000  19.510000  1008700\n"
     ]
    },
    {
     "name": "stderr",
     "output_type": "stream",
     "text": [
      "['ALTV']: Exception('%ticker%: No price data found, symbol may be delisted (1d 2014-08-11 21:06:16+00:00 -> 2014-08-12 18:17:19+00:00)')\n"
     ]
    },
    {
     "name": "stdout",
     "output_type": "stream",
     "text": [
      "\n",
      "Stock: ALTV\n",
      "Empty DataFrame\n",
      "Columns: [Open, High, Low, Close, Adj Close, Volume]\n",
      "Index: []\n"
     ]
    },
    {
     "name": "stderr",
     "output_type": "stream",
     "text": [
      "[*********************100%%**********************]  1 of 1 completed\n",
      "\n",
      "1 Failed download:\n",
      "['ALU']: Exception(\"%ticker%: Data doesn't exist for startDate = 1249862400, endDate = 1509390910\")\n"
     ]
    },
    {
     "name": "stdout",
     "output_type": "stream",
     "text": [
      "\n",
      "Stock: ALU\n",
      "Empty DataFrame\n",
      "Columns: [Open, High, Low, Close, Adj Close, Volume]\n",
      "Index: []\n"
     ]
    },
    {
     "name": "stderr",
     "output_type": "stream",
     "text": [
      "[*********************100%%**********************]  1 of 1 completed\n"
     ]
    },
    {
     "name": "stdout",
     "output_type": "stream",
     "text": [
      "\n",
      "Stock: ALV\n",
      "                 Open       High        Low      Close  Adj Close   Volume\n",
      "Date                                                                      \n",
      "2009-11-17  29.193085  29.315561  28.940922  29.293947  21.087124  2610412\n",
      "2009-11-18  29.963978  30.144093  29.632565  29.978386  21.579811  1977761\n",
      "2009-11-19  29.164265  29.250719  28.429396  28.832853  20.755211  2226907\n",
      "2009-11-20  28.739193  28.904900  28.278097  28.638329  20.615177  1216582\n",
      "2009-11-23  29.783861  29.942364  29.337175  29.553314  21.273827  1785940\n"
     ]
    },
    {
     "name": "stderr",
     "output_type": "stream",
     "text": [
      "[*********************100%%**********************]  1 of 1 completed\n"
     ]
    },
    {
     "name": "stdout",
     "output_type": "stream",
     "text": [
      "\n",
      "Stock: ALX\n",
      "                  Open        High         Low       Close   Adj Close  Volume\n",
      "Date                                                                          \n",
      "2009-11-05  267.899994  271.929993  260.149994  271.929993  100.064667   10200\n",
      "2009-11-06  270.000000  270.390015  266.000000  267.339996   98.375648    5500\n",
      "2009-11-09  269.070007  275.470001  268.839996  275.470001  101.367317    5600\n",
      "2009-11-10  272.809998  275.489990  272.109985  272.619995  100.318542    3400\n",
      "2009-11-11  274.570007  279.500000  270.619995  279.500000  102.850281    6900\n"
     ]
    },
    {
     "name": "stderr",
     "output_type": "stream",
     "text": [
      "[*********************100%%**********************]  1 of 1 completed\n",
      "\n",
      "1 Failed download:\n",
      "['ALXA']: Exception('%ticker%: No price data found, symbol may be delisted (1d 2009-08-27 00:00:00+00:00 -> 2016-06-22 19:14:49+00:00)')\n"
     ]
    },
    {
     "name": "stdout",
     "output_type": "stream",
     "text": [
      "\n",
      "Stock: ALXA\n",
      "Empty DataFrame\n",
      "Columns: [Open, High, Low, Close, Adj Close, Volume]\n",
      "Index: []\n"
     ]
    },
    {
     "name": "stderr",
     "output_type": "stream",
     "text": [
      "[*********************100%%**********************]  1 of 1 completed\n",
      "\n",
      "1 Failed download:\n",
      "['ALXN']: Exception('%ticker%: No timezone found, symbol may be delisted')\n"
     ]
    },
    {
     "name": "stdout",
     "output_type": "stream",
     "text": [
      "\n",
      "Stock: ALXN\n",
      "Empty DataFrame\n",
      "Columns: [Open, High, Low, Close, Adj Close, Volume]\n",
      "Index: []\n"
     ]
    },
    {
     "name": "stderr",
     "output_type": "stream",
     "text": [
      "[*********************100%%**********************]  1 of 1 completed\n"
     ]
    },
    {
     "name": "stdout",
     "output_type": "stream",
     "text": [
      "\n",
      "Stock: AM\n",
      "                 Open       High        Low      Close  Adj Close    Volume\n",
      "Date                                                                       \n",
      "2017-05-04  22.150000  22.680000  21.559999  22.000000  11.205658  13740800\n",
      "2017-05-05  22.000000  22.430000  22.000000  22.280001  11.348277   1925700\n",
      "2017-05-08  22.190001  22.340000  21.740000  22.030001  11.220942   1312200\n",
      "2017-05-09  22.000000  22.073999  21.650000  22.000000  11.205658    818400\n",
      "2017-05-10  21.910000  21.959999  21.309999  21.540001  10.971359   1154600\n"
     ]
    },
    {
     "name": "stderr",
     "output_type": "stream",
     "text": [
      "[*********************100%%**********************]  1 of 1 completed\n",
      "\n",
      "1 Failed download:\n",
      "['AMAG']: Exception('%ticker%: No timezone found, symbol may be delisted')\n"
     ]
    },
    {
     "name": "stdout",
     "output_type": "stream",
     "text": [
      "\n",
      "Stock: AMAG\n",
      "Empty DataFrame\n",
      "Columns: [Open, High, Low, Close, Adj Close, Volume]\n",
      "Index: []\n"
     ]
    },
    {
     "name": "stderr",
     "output_type": "stream",
     "text": [
      "[*********************100%%**********************]  1 of 1 completed\n"
     ]
    },
    {
     "name": "stdout",
     "output_type": "stream",
     "text": [
      "\n",
      "Stock: AMAT\n",
      "                 Open       High        Low      Close  Adj Close    Volume\n",
      "Date                                                                       \n",
      "2015-08-12  17.100000  17.389999  16.980000  17.299999  15.469609  14675100\n",
      "2015-08-13  17.379999  17.450001  17.000000  17.049999  15.246066  17273900\n",
      "2015-08-14  16.700001  16.780001  16.240000  16.639999  14.879444  42704600\n",
      "2015-08-17  16.540001  17.059999  16.469999  17.030001  15.228175  14596500\n",
      "2015-08-18  16.959999  16.959999  16.459999  16.530001  14.868383  15286200\n"
     ]
    },
    {
     "name": "stderr",
     "output_type": "stream",
     "text": [
      "[*********************100%%**********************]  1 of 1 completed\n"
     ]
    },
    {
     "name": "stdout",
     "output_type": "stream",
     "text": [
      "\n",
      "Stock: AMBA\n",
      "                 Open       High        Low      Close  Adj Close   Volume\n",
      "Date                                                                      \n",
      "2014-01-10  31.340000  31.980000  28.129999  29.309999  29.309999  4259400\n",
      "2014-01-13  30.010000  30.379999  28.770000  28.990000  28.990000  1962000\n",
      "2014-01-14  29.600000  32.400002  29.600000  31.709999  31.709999  2543100\n",
      "2014-01-15  32.509998  33.000000  30.719999  32.029999  32.029999  1981900\n",
      "2014-01-16  32.119999  33.200001  32.090000  32.419998  32.419998  1823200\n"
     ]
    },
    {
     "name": "stderr",
     "output_type": "stream",
     "text": [
      "[*********************100%%**********************]  1 of 1 completed\n"
     ]
    },
    {
     "name": "stdout",
     "output_type": "stream",
     "text": [
      "\n",
      "Stock: AMBC\n",
      "                 Open   High        Low      Close  Adj Close   Volume\n",
      "Date                                                                  \n",
      "2013-05-01  18.610001  21.48  18.000000  20.000000  20.000000   922600\n",
      "2013-05-02  21.000000  21.00  20.010000  20.200001  20.200001   707700\n",
      "2013-05-03  20.190001  20.65  20.190001  20.400000  20.400000   597000\n",
      "2013-05-06  20.049999  21.75  19.010000  21.440001  21.440001  1854900\n",
      "2013-05-07  21.500000  22.50  21.500000  22.379999  22.379999  2932500\n"
     ]
    },
    {
     "name": "stderr",
     "output_type": "stream",
     "text": [
      "[*********************100%%**********************]  1 of 1 completed\n",
      "\n",
      "1 Failed download:\n",
      "['AMBR']: Exception('%ticker%: No timezone found, symbol may be delisted')\n"
     ]
    },
    {
     "name": "stdout",
     "output_type": "stream",
     "text": [
      "\n",
      "Stock: AMBR\n",
      "Empty DataFrame\n",
      "Columns: [Open, High, Low, Close, Adj Close, Volume]\n",
      "Index: []\n"
     ]
    },
    {
     "name": "stderr",
     "output_type": "stream",
     "text": [
      "[*********************100%%**********************]  1 of 1 completed\n"
     ]
    },
    {
     "name": "stdout",
     "output_type": "stream",
     "text": [
      "\n",
      "Stock: AMC\n",
      "                  Open        High         Low       Close   Adj Close  Volume\n",
      "Date                                                                          \n",
      "2013-12-18  191.800003  197.899994  189.000000  189.000000  135.934097  545720\n",
      "2013-12-19  189.000000  194.899994  188.100006  194.899994  140.177536  160540\n",
      "2013-12-20  196.500000  197.699997  194.000000  196.800003  141.544083   73710\n",
      "2013-12-23  197.899994  199.899994  195.000000  197.399994  141.975632   69810\n",
      "2013-12-24  197.399994  198.199997  195.000000  195.300003  140.465271   21370\n"
     ]
    },
    {
     "name": "stderr",
     "output_type": "stream",
     "text": [
      "[*********************100%%**********************]  1 of 1 completed\n",
      "\n",
      "1 Failed download:\n",
      "['AMCC']: Exception('%ticker%: No price data found, symbol may be delisted (1d 2010-04-30 00:00:00+00:00 -> 2016-12-13 21:06:42+00:00)')\n"
     ]
    },
    {
     "name": "stdout",
     "output_type": "stream",
     "text": [
      "\n",
      "Stock: AMCC\n",
      "Empty DataFrame\n",
      "Columns: [Open, High, Low, Close, Adj Close, Volume]\n",
      "Index: []\n"
     ]
    },
    {
     "name": "stderr",
     "output_type": "stream",
     "text": [
      "[*********************100%%**********************]  1 of 1 completed\n"
     ]
    },
    {
     "name": "stdout",
     "output_type": "stream",
     "text": [
      "\n",
      "Stock: AMCF\n",
      "            Open  High   Low  Close  Adj Close   Volume\n",
      "Date                                                   \n",
      "2010-01-26  6.50  6.50  5.71  5.770      5.770   955563\n",
      "2010-01-27  5.87  6.11  5.86  6.070      6.070  1116134\n",
      "2010-01-28  6.17  6.17  6.00  6.160      6.160  1182186\n",
      "2010-01-29  6.20  6.27  6.00  6.150      6.150  1281826\n",
      "2010-02-01  6.06  6.24  6.06  6.154      6.154  1300237\n"
     ]
    }
   ],
   "source": [
    "\n",
    "import pandas as pd\n",
    "import yfinance as yf\n",
    "\n",
    "# Load your dataset containing stock symbols and dates from a CSV file into a pandas DataFrame\n",
    "df = pd.read_csv('raw_analyst_ratings.csv')\n",
    "\n",
    "# Convert the 'date' column to datetime objects\n",
    "df['date'] = pd.to_datetime(df['date'], utc=True)\n",
    "\n",
    "# Group by 'stock' column and find the earliest and latest date for each stock\n",
    "date_ranges = df.groupby('stock')['date'].agg(['min', 'max'])\n",
    "\n",
    "# Fetch stock data for each stock within its respective date range\n",
    "for stock, dates in date_ranges.iterrows():\n",
    "    start_date = dates['min']\n",
    "    end_date = dates['max']\n",
    "    \n",
    "    # Fetch stock data from Yahoo Finance using yfinance\n",
    "    stock_data = yf.download(stock, start=start_date, end=end_date)\n",
    "    \n",
    "    # Display the fetched stock data\n",
    "    print(f\"\\nStock: {stock}\")\n",
    "    print(stock_data.head())  # Display the first few rows of the fetched stock data\n"
   ]
  },
  {
   "cell_type": "code",
   "execution_count": null,
   "id": "3050c608",
   "metadata": {},
   "outputs": [],
   "source": []
  }
 ],
 "metadata": {
  "kernelspec": {
   "display_name": "Python 3 (ipykernel)",
   "language": "python",
   "name": "python3"
  },
  "language_info": {
   "codemirror_mode": {
    "name": "ipython",
    "version": 3
   },
   "file_extension": ".py",
   "mimetype": "text/x-python",
   "name": "python",
   "nbconvert_exporter": "python",
   "pygments_lexer": "ipython3",
   "version": "3.9.13"
  }
 },
 "nbformat": 4,
 "nbformat_minor": 5
}
